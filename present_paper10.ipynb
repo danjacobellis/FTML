{
 "cells": [
  {
   "cell_type": "markdown",
   "id": "267e4f8c-85dd-4f36-9ee4-0462952afe5d",
   "metadata": {
    "tags": [
     "remove-nb-cell"
    ]
   },
   "source": [
    "# Understanding Black-box Predictions via Influence functions\n",
    "\n",
    "[Paper](http://proceedings.mlr.press/v70/koh17a/koh17a.pdf)\n",
    "\n",
    "[Slides](https://danjacobellis.github.io/FTML/present_paper10.slides.html)\n"
   ]
  },
  {
   "cell_type": "markdown",
   "id": "c0e072a5-d669-4465-9a53-03cf7f807acd",
   "metadata": {
    "slideshow": {
     "slide_type": "slide"
    },
    "tags": []
   },
   "source": [
    "<script>\n",
    "    document.querySelector('head').innerHTML += '<style>.slides { zoom: 1.75 !important; }</style>';\n",
    "</script>\n",
    "\n",
    "<center> <h1>\n",
    "Understanding Black-box Predictions via Influence functions\n",
    "</h1> </center>"
   ]
  },
  {
   "cell_type": "markdown",
   "id": "91e51990-bdc7-4e78-b451-a69302323fcb",
   "metadata": {},
   "source": [
    "## Cook's distance\n",
    "\n",
    "* Dennis Cook, 1970: *Detection of influential observation in linear regression*\n",
    "* \"Overall summary statistics (e.g. $R^2$, $\\beta$) ... present a distorted and misleading picture\"\n",
    "* **Cook's distance**: deviation of the model when point $i$ is excluded\n",
    "\n",
    "$$D_i = \\frac {1}{ps^2} \\sum_{j=1}^{n}{(\\hat y _j - \\hat y_{j(i)}})^2$$\n",
    "\n",
    "* Identify influential points\n",
    "* Identify regions to sample when collecting subsequent data"
   ]
  },
  {
   "cell_type": "markdown",
   "id": "1154deb5-4ee3-4944-9ba5-7ff3e08e46d9",
   "metadata": {},
   "source": [
    "## Leverage \n",
    "\n",
    "* * Also known as \"Self-influence\"\n",
    "* Degree to which the $i$th measured value influences the $i$th predicted value\n",
    "$$h_{ii} = \\frac {\\partial \\hat y_i}{\\partial y_i}$$\n",
    "* $ 0 \\leq h_{ii} \\leq 1$\n",
    "* Common heuristic: $x_i$ is an outlier if $h_{ii} > \\frac {2p}{n}$"
   ]
  },
  {
   "cell_type": "markdown",
   "id": "4e071ec6-07d7-4393-a09b-8925bdf437ca",
   "metadata": {},
   "source": [
    "## "
   ]
  }
 ],
 "metadata": {
  "kernelspec": {
   "display_name": "Python 3 (ipykernel)",
   "language": "python",
   "name": "python3"
  },
  "language_info": {
   "codemirror_mode": {
    "name": "ipython",
    "version": 3
   },
   "file_extension": ".py",
   "mimetype": "text/x-python",
   "name": "python",
   "nbconvert_exporter": "python",
   "pygments_lexer": "ipython3",
   "version": "3.10.2"
  }
 },
 "nbformat": 4,
 "nbformat_minor": 5
}
