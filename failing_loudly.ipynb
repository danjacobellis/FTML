{
 "cells": [
  {
   "cell_type": "markdown",
   "id": "267e4f8c-85dd-4f36-9ee4-0462952afe5d",
   "metadata": {
    "tags": [
     "remove-nb-cell"
    ]
   },
   "source": [
    "# Critique of Critique of \"Failing Loudly: An Empirical Study of Methods for Detecting Dataset Shift\"\n",
    "\n",
    "[Paper](https://proceedings.neurips.cc/paper/2019/hash/846c260d715e5b854ffad5f70a516c88-Abstract.html)\n",
    "[Slides](https://danjacobellis.github.io/FTML/failing_loudly.slides.html)\n"
   ]
  },
  {
   "cell_type": "markdown",
   "id": "c0e072a5-d669-4465-9a53-03cf7f807acd",
   "metadata": {
    "slideshow": {
     "slide_type": "slide"
    },
    "tags": [
     "remove-cell"
    ]
   },
   "source": [
    "<script>\n",
    "    document.querySelector('head').innerHTML += '<style>.slides { zoom: 1.75 !important; }</style>';\n",
    "</script>\n",
    "\n",
    "<center> <h2>\n",
    "Critique of <br> \"Failing Loudly: An Empirical Study of Methods for Detecting Dataset Shift\"\n",
    "</h2> </center>"
   ]
  },
  {
   "cell_type": "markdown",
   "id": "47f87fc9-39eb-4a44-9ee1-8f1f91b0b866",
   "metadata": {
    "slideshow": {
     "slide_type": "slide"
    },
    "tags": []
   },
   "source": [
    "## Detection vs Adaptation\n",
    "\n",
    "* Detection\n",
    "  * Is drift occuring?\n",
    "  * In what direction is the drift occuring?\n",
    "  * Is the drift harmful?\n",
    "* [Adaptation](https://proceedings.neurips.cc/paper/2020/file/3430095c577593aad3c39c701712bcfe-Paper.pdf)\n",
    "  * What should the new model parameters be?"
   ]
  }
 ],
 "metadata": {
  "kernelspec": {
   "display_name": "Python 3 (ipykernel)",
   "language": "python",
   "name": "python3"
  },
  "language_info": {
   "codemirror_mode": {
    "name": "ipython",
    "version": 3
   },
   "file_extension": ".py",
   "mimetype": "text/x-python",
   "name": "python",
   "nbconvert_exporter": "python",
   "pygments_lexer": "ipython3",
   "version": "3.10.6"
  }
 },
 "nbformat": 4,
 "nbformat_minor": 5
}
