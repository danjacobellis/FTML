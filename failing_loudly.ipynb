{
 "cells": [
  {
   "cell_type": "markdown",
   "id": "267e4f8c-85dd-4f36-9ee4-0462952afe5d",
   "metadata": {
    "tags": [
     "remove-nb-cell"
    ]
   },
   "source": [
    "# Critique of Critique of \"Failing Loudly: An Empirical Study of Methods for Detecting Dataset Shift\"\n",
    "\n",
    "[Paper](https://proceedings.neurips.cc/paper/2019/hash/846c260d715e5b854ffad5f70a516c88-Abstract.html)\n",
    "\n",
    "[Slides](https://danjacobellis.github.io/FTML/failing_loudly.slides.html)\n"
   ]
  },
  {
   "cell_type": "markdown",
   "id": "c0e072a5-d669-4465-9a53-03cf7f807acd",
   "metadata": {
    "slideshow": {
     "slide_type": "slide"
    },
    "tags": [
     "remove-cell"
    ]
   },
   "source": [
    "<script>\n",
    "    document.querySelector('head').innerHTML += '<style>.slides { zoom: 1.75 !important; }</style>';\n",
    "</script>\n",
    "\n",
    "<center> <h2>\n",
    "Critique of <br> \"Failing Loudly: An Empirical Study of Methods for Detecting Dataset Shift\"\n",
    "</h2> </center>"
   ]
  },
  {
   "cell_type": "markdown",
   "id": "47f87fc9-39eb-4a44-9ee1-8f1f91b0b866",
   "metadata": {
    "jp-MarkdownHeadingCollapsed": true,
    "slideshow": {
     "slide_type": "slide"
    },
    "tags": []
   },
   "source": [
    "## Detection vs Adaptation\n",
    "\n",
    "* Detection\n",
    "  * Is drift occuring?\n",
    "  * In what direction is the drift occuring?\n",
    "  * Is the drift harmful?\n",
    "* Adaption\n",
    "  * What should the new model parameters be?\n",
    "  * How do we leverage information about changes in the distribution?\n",
    "  * Many approaches have been proposed\n",
    "    * [Causal discovery](https://www.ncbi.nlm.nih.gov/pmc/articles/PMC5617646/)\n",
    "    * [Graphical model](https://proceedings.neurips.cc/paper/2020/file/3430095c577593aad3c39c701712bcfe-Paper.pdf)"
   ]
  },
  {
   "cell_type": "markdown",
   "id": "a6887b69-2890-4679-ac0e-97f905c395ec",
   "metadata": {
    "slideshow": {
     "slide_type": "slide"
    },
    "tags": []
   },
   "source": [
    "## Dimensionality reduction (DR)\n",
    "  * Authors explore several DR techniques\n",
    "    * Principle components analysis\n",
    "    * Autoencoder\n",
    "      * 3 convolutional layers, one fully connected\n",
    "      * Untrained (random weights) and trained\n",
    "    * Output from black box predictor\n",
    "      * Softmax\n",
    "      * Hard threshold"
   ]
  },
  {
   "cell_type": "markdown",
   "id": "828d3664",
   "metadata": {
    "tags": [
     "remove-nb-cell"
    ]
   },
   "source": [
    "# Critique of Critique of \"Failing Loudly: An Empirical Study of Methods for Detecting Dataset Shift\"\n",
    "\n",
    "[Paper](https://proceedings.neurips.cc/paper/2019/hash/846c260d715e5b854ffad5f70a516c88-Abstract.html)\n",
    "\n",
    "[Slides](https://danjacobellis.github.io/FTML/failing_loudly.slides.html)\n"
   ]
  },
  {
   "cell_type": "markdown",
   "id": "cd983fc8",
   "metadata": {
    "slideshow": {
     "slide_type": "slide"
    },
    "tags": [
     "remove-cell"
    ]
   },
   "source": [
    "<script>\n",
    "    document.querySelector('head').innerHTML += '<style>.slides { zoom: 1.75 !important; }</style>';\n",
    "</script>\n",
    "\n",
    "<center> <h2>\n",
    "Critique of <br> \"Failing Loudly: An Empirical Study of Methods for Detecting Dataset Shift\"\n",
    "</h2> </center>"
   ]
  },
  {
   "cell_type": "markdown",
   "id": "95a38336",
   "metadata": {
    "slideshow": {
     "slide_type": "slide"
    },
    "tags": []
   },
   "source": [
    "## Dimensionality reduction (DR)\n",
    "  * Authors explore several DR techniques\n",
    "    * Principle components analysis\n",
    "    * Autoencoder\n",
    "      * 3 convolutional layers, one fully connected\n",
    "      * Untrained (random weights) and trained\n",
    "    * Output from black box predictor\n",
    "      * Softmax\n",
    "      * Hard threshold"
   ]
  },
  {
   "cell_type": "markdown",
   "id": "eb266c1c-06cc-4e65-ad67-93b507f14301",
   "metadata": {
    "slideshow": {
     "slide_type": "slide"
    },
    "tags": []
   },
   "source": [
    "## Advances in representation learning\n",
    "\n",
    "* Variational autoencoder\n",
    "  * Uses a Gaussian prior\n",
    "* Vector-quantized variational autoencoder\n",
    "  * Uses uniform discrete prior"
   ]
  },
  {
   "cell_type": "markdown",
   "id": "696c2adb",
   "metadata": {
    "jp-MarkdownHeadingCollapsed": true,
    "slideshow": {
     "slide_type": "slide"
    },
    "tags": []
   },
   "source": [
    "## Detection vs Adaptation\n",
    "\n",
    "* Detection\n",
    "  * Is drift occuring?\n",
    "  * In what direction is the drift occuring?\n",
    "  * Is the drift harmful?\n",
    "* Adaption\n",
    "  * What should the new model parameters be?\n",
    "  * How do we leverage information about changes in the distribution?\n",
    "  * Many approaches have been proposed\n",
    "    * [Causal discovery](https://www.ncbi.nlm.nih.gov/pmc/articles/PMC5617646/)\n",
    "    * [Graphical model](https://proceedings.neurips.cc/paper/2020/file/3430095c577593aad3c39c701712bcfe-Paper.pdf)"
   ]
  }
 ],
 "metadata": {
  "kernelspec": {
   "display_name": "Python 3 (ipykernel)",
   "language": "python",
   "name": "python3"
  },
  "language_info": {
   "codemirror_mode": {
    "name": "ipython",
    "version": 3
   },
   "file_extension": ".py",
   "mimetype": "text/x-python",
   "name": "python",
   "nbconvert_exporter": "python",
   "pygments_lexer": "ipython3",
   "version": "3.10.6"
  }
 },
 "nbformat": 4,
 "nbformat_minor": 5
}
