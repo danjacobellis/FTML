{
 "cells": [
  {
   "cell_type": "markdown",
   "id": "267e4f8c-85dd-4f36-9ee4-0462952afe5d",
   "metadata": {
    "tags": [
     "remove-nb-cell"
    ]
   },
   "source": [
    "# A review of uncertainty quantification in deep learning\n",
    "\n",
    "[Paper](https://www.sciencedirect.com/science/article/pii/S1566253521001081)\n",
    "\n",
    "[Slides](https://danjacobellis.github.io/FTML/uncertainty_quantification.slides.html)"
   ]
  },
  {
   "cell_type": "markdown",
   "id": "c0e072a5-d669-4465-9a53-03cf7f807acd",
   "metadata": {
    "slideshow": {
     "slide_type": "slide"
    },
    "tags": [
     "remove-cell"
    ]
   },
   "source": [
    "<script>\n",
    "    document.querySelector('head').innerHTML += '<style>.slides { zoom: 1.75 !important; }</style>';\n",
    "</script>\n",
    "\n",
    "<center> <h1>\n",
    "Uncertainty quantification in deep learning\n",
    "</h1> </center>"
   ]
  },
  {
   "cell_type": "markdown",
   "id": "335216c5-d35f-4654-83d9-a9e53d4c8abb",
   "metadata": {
    "slideshow": {
     "slide_type": "slide"
    },
    "tags": []
   },
   "source": [
    "## Uncertainty quantification"
   ]
  },
  {
   "cell_type": "markdown",
   "id": "edfb1e97-a80f-4db5-85b6-65f5274b12e4",
   "metadata": {
    "slideshow": {
     "slide_type": "slide"
    },
    "tags": []
   },
   "source": [
    "## Aleatoric Uncertainty"
   ]
  },
  {
   "cell_type": "markdown",
   "id": "c70bc89d-b817-41e2-9c8e-4f3055a2eb5f",
   "metadata": {},
   "source": [
    "## Epistemic Uncertainty"
   ]
  },
  {
   "cell_type": "markdown",
   "id": "ad6b95cc-595f-4f77-ae56-9d850d5034cf",
   "metadata": {},
   "source": [
    "## Uncertainty propagation in forward problem\n",
    "\n",
    "* Example: Determine uncertainty in restistance from measurements of voltage and current.\n",
    "\n",
    "$$R = h(V,I)= \\frac{V}{I}$$\n",
    "$$f_R(r) = f_{V, I}\\left(h^{-1}(r)\\right) \\left|\\text{det}(\\mathbf J\\{h^{-1} \\}) \\right|$$\n",
    "\n",
    "$$\\sigma_R=R\\sqrt{\\left(\\frac{\\sigma_V}{V}\\right)^2 +\\left(\\frac{\\sigma_I}{I} \\right)^2}$$"
   ]
  },
  {
   "cell_type": "markdown",
   "id": "81658492-8faa-4e7b-8050-d83c0a64bf08",
   "metadata": {},
   "source": [
    "## Uncertainty in inverse problem\n",
    "\n",
    "* Dereverberation: determine original audio signal from noisy, reverberant recording\n",
    "* Forward model: Wave equation\n",
    "$$c^2 \\nabla^2 p = \\frac{\\partial^2 p}{\\partial t^2}$$\n",
    "* Parameters\n",
    "  * Size/shape of room\n",
    "  * Reflectivity/absorption of materials\n",
    "  * Noise distribution"
   ]
  },
  {
   "cell_type": "markdown",
   "id": "def071b2-8ab2-44af-a281-7df0255a17d5",
   "metadata": {},
   "source": [
    "## Uncertainty in inverse problem\n",
    "\n",
    "* Dereverberation is ill-posed\n",
    "* Consider a pair of recordings (clean/reverberant)\n",
    "  * We can check if the parameters fit the data using the forward model\n",
    "  * Many combinations of parameter values will fit the data"
   ]
  },
  {
   "cell_type": "markdown",
   "id": "33297379-f7fc-422b-9c47-8c0769846899",
   "metadata": {
    "slideshow": {
     "slide_type": "slide"
    },
    "tags": []
   },
   "source": [
    "## Bayesian UQ\n",
    "\n",
    "[BNN](https://arxiv.org/pdf/2007.06823.pdf)"
   ]
  },
  {
   "cell_type": "markdown",
   "id": "27cc11db-db5e-4403-a5c7-03214a895712",
   "metadata": {
    "slideshow": {
     "slide_type": "slide"
    },
    "tags": []
   },
   "source": [
    "## Monte Carlo dropout\n",
    "\n",
    "[mc dropout](https://arxiv.org/pdf/1506.02142.pdf)\n",
    "\n",
    "[bayesian segnet](https://arxiv.org/pdf/1511.02680.pdf)"
   ]
  },
  {
   "cell_type": "markdown",
   "id": "a17a6622-505d-48f9-809d-21cd4dd7a2de",
   "metadata": {
    "slideshow": {
     "slide_type": "slide"
    },
    "tags": []
   },
   "source": [
    "## Variational inference\n",
    "\n",
    "[Scalable Uncertainty](https://arxiv.org/pdf/2003.03396.pdf)"
   ]
  },
  {
   "cell_type": "markdown",
   "id": "cf4a4914-1c72-44df-a76a-4b4fc81f5f3f",
   "metadata": {
    "slideshow": {
     "slide_type": "slide"
    },
    "tags": []
   },
   "source": [
    "## Variational autoencoders\n",
    "\n",
    "[UQ using generative models](https://arxiv.org/pdf/1910.10046.pdf)"
   ]
  },
  {
   "cell_type": "markdown",
   "id": "41cf95f6-b325-4be6-9af2-a6bf121cbd4e",
   "metadata": {
    "slideshow": {
     "slide_type": "slide"
    },
    "tags": []
   },
   "source": [
    "## Bayes by backprop\n",
    "\n",
    "[weight uncertainty](https://arxiv.org/pdf/1505.05424.pdf)"
   ]
  },
  {
   "cell_type": "markdown",
   "id": "45915791-955b-4990-b6f7-13d29f3979e2",
   "metadata": {
    "slideshow": {
     "slide_type": "slide"
    },
    "tags": []
   },
   "source": [
    "## Laplacian approximations\n",
    "\n",
    "[laplacian](https://openreview.net/pdf?id=Skdvd2xAZ)"
   ]
  },
  {
   "cell_type": "markdown",
   "id": "5cfa4e1c-15ad-4375-805c-8d47d3d15c52",
   "metadata": {
    "slideshow": {
     "slide_type": "slide"
    },
    "tags": []
   },
   "source": [
    "## Ensemble techniques\n",
    "[brain](https://arxiv.org/pdf/1807.07356.pdf)\n",
    "\n",
    "[air pollution](https://arxiv.org/pdf/1911.04061.pdf)"
   ]
  }
 ],
 "metadata": {
  "kernelspec": {
   "display_name": "Python 3 (ipykernel)",
   "language": "python",
   "name": "python3"
  },
  "language_info": {
   "codemirror_mode": {
    "name": "ipython",
    "version": 3
   },
   "file_extension": ".py",
   "mimetype": "text/x-python",
   "name": "python",
   "nbconvert_exporter": "python",
   "pygments_lexer": "ipython3",
   "version": "3.10.6"
  }
 },
 "nbformat": 4,
 "nbformat_minor": 5
}
