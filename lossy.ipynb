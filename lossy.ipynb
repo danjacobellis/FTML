{
 "cells": [
  {
   "cell_type": "raw",
   "id": "09f3aaff-f5da-4527-9701-4c892767299d",
   "metadata": {},
   "source": [
    "\\documentclass{article}\n",
    "\\usepackage{spconf}\n",
    "\\usepackage[utf8]{inputenc}\n",
    "\\usepackage{setspace}\n",
    "\\usepackage{amssymb}\n",
    "\\usepackage{subfiles}\n",
    "\\usepackage{amsmath}\n",
    "\\usepackage{graphicx}\n",
    "\\usepackage{subcaption}\n",
    "\\usepackage[\n",
    "backend=biber,\n",
    "style=alphabetic,\n",
    "giveninits=true\n",
    "]{biblatex}\n",
    "\\DeclareNameAlias{default}{family-given}\n",
    "\\addbibresource{sources.bib}\n"
   ]
  },
  {
   "cell_type": "raw",
   "id": "b0bbbe46-48ed-4342-a9fd-27e829817564",
   "metadata": {},
   "source": [
    "\\graphicspath{ {./img} }\n"
   ]
  },
  {
   "cell_type": "raw",
   "id": "07f748d2-65ab-4c4d-abec-098668f67bb1",
   "metadata": {},
   "source": [
    "\\title{Lossy Compression to Prevent Evasion and Poisoning}\n",
    "\\name{Dan Jacobellis and Matthew Qin}\n",
    "\\address{ECE 381V Term Project}\n",
    "\\date{\\today} "
   ]
  },
  {
   "cell_type": "raw",
   "id": "1f43b7c0-5c20-4642-b94c-30848b1a1c09",
   "metadata": {},
   "source": [
    "\\begin{document}\n",
    "\n",
    "\\def\\IEEEQED{\\mbox{\\rule[0pt]{1.3ex}{1.3ex}}} % for a filled box\n",
    "\\newcommand{\\ep}{\\hspace*{\\fill}~\\IEEEQED}\n",
    "\\newenvironment{mproof}[1][Proof]{{\\bf #1: }}{\\ep\\vspace{.1in}}\n",
    "\n",
    "\\maketitle"
   ]
  },
  {
   "cell_type": "raw",
   "id": "7f047958-f060-4b44-8874-9ab12d354f06",
   "metadata": {},
   "source": [
    "\\begin{abstract}\n"
   ]
  },
  {
   "cell_type": "markdown",
   "id": "f5adead8-ba13-4f3c-bea1-4e923c036c9a",
   "metadata": {},
   "source": [
    "Adversarial attacks are cyber-attacks that are specifically de-\n",
    "signed to trick a machine-learning model into making a wrong\n",
    "prediction or decision. One of the most common examples\n",
    "is within the image domain in which the model is fed input\n",
    "data with carefully selected noise in order for the model to\n",
    "misclassify the target. Due to the severity of this issue, we\n",
    "explore the usage of lossy compression in order to counter\n",
    "malicious attacks. In this work, we propose a framework in\n",
    "which through the reduction of irrelevant and noisy data via\n",
    "lossy compression, we make it easier for the system to fil-\n",
    "ter malicious data and make it more difficult for attackers to\n",
    "manipulate data without being detected. With this method of\n",
    "data sanitation, we are able to successfully block adversar-\n",
    "ial evasion and model poisoning while retaining high model\n",
    "performance."
   ]
  },
  {
   "cell_type": "raw",
   "id": "d70d6356-d396-4118-89f2-760bed87e38b",
   "metadata": {},
   "source": [
    "\n",
    "\\end{abstract}\n"
   ]
  },
  {
   "cell_type": "raw",
   "id": "1974ee2a-9de3-40aa-a526-70b4405184fa",
   "metadata": {},
   "source": [
    "\\section{Introduction} \\label{sec:introduction}\n"
   ]
  },
  {
   "cell_type": "markdown",
   "id": "019e37a0-d4f9-403f-b248-bf40a2e1ae03",
   "metadata": {},
   "source": [
    "Adversarial attacks are a major concern in the field of cyber-\n",
    "security as they pose significant threats to the integrity and\n",
    "security of systems and networks. In recent years, they have\n",
    "become increasingly common and have become increasingly\n",
    "sophisticated, with attackers leveraging advanced techniques\n",
    "and tools to exploit vulnerabilities and cause harm. As such,\n",
    "they are a growing concern to individuals, organizations, and\n",
    "government entities alike."
   ]
  },
  {
   "cell_type": "raw",
   "id": "6096af1e-4867-451e-8046-da784dfa66ef",
   "metadata": {},
   "source": [
    "\\begin{figure}[h!]\n",
    "  \\includegraphics[scale=0.25]{doog}\n",
    "  \\caption{Evasion Attack using FGSM}\n",
    "\\end{figure}"
   ]
  },
  {
   "cell_type": "raw",
   "id": "e753dfef-f138-4605-8435-dd69aee1436b",
   "metadata": {},
   "source": [
    "\\cite{geiping2020witches}"
   ]
  },
  {
   "cell_type": "raw",
   "id": "77884afe-ea31-4ae6-8cbc-2db695e06517",
   "metadata": {},
   "source": [
    "\\section{Methods} \\label{sec:methods}\n"
   ]
  },
  {
   "cell_type": "raw",
   "id": "6f3c0e71-7c28-4505-ac9b-95a0c6f214ae",
   "metadata": {},
   "source": [
    "\n",
    "\\subsection{Experiment 1: Evasion} \\label{sec:evasion}\n"
   ]
  },
  {
   "cell_type": "markdown",
   "id": "565e44b6-ee18-4439-af9a-f06ad6b8cc55",
   "metadata": {},
   "source": [
    "Something something, trained on compressed images. 0 25\n",
    "50 75 100. Not fully exhaustive list Bla bla bla, used JPEG and GIF compression methods. Something abouts bits and dithering :) (Figure8)"
   ]
  },
  {
   "cell_type": "raw",
   "id": "be154c06-b80d-4161-b8e1-170cea780bb5",
   "metadata": {},
   "source": [
    "\n",
    "\\printbibliography\n",
    "\\end{document}"
   ]
  },
  {
   "cell_type": "code",
   "execution_count": 14,
   "id": "865fa049-8f79-49d9-a3ec-3e90f500ada1",
   "metadata": {},
   "outputs": [
    {
     "name": "stdout",
     "output_type": "stream",
     "text": [
      "This is pdfTeX, Version 3.141592653-2.6-1.40.22 (TeX Live 2022/dev/Debian) (preloaded format=pdflatex)\n",
      " restricted \\write18 enabled.\n",
      "entering extended mode\n",
      "(./lossy.tex\n",
      "LaTeX2e <2021-11-15> patch level 1\n",
      "L3 programming layer <2022-01-21>\n",
      "(/usr/share/texlive/texmf-dist/tex/latex/base/article.cls\n",
      "Document Class: article 2021/10/04 v1.4n Standard LaTeX document class\n",
      "(/usr/share/texlive/texmf-dist/tex/latex/base/size10.clo)) (./spconf.sty)\n",
      "(/usr/share/texlive/texmf-dist/tex/latex/base/inputenc.sty)\n",
      "(/usr/share/texlive/texmf-dist/tex/latex/setspace/setspace.sty)\n",
      "(/usr/share/texlive/texmf-dist/tex/latex/amsfonts/amssymb.sty\n",
      "(/usr/share/texlive/texmf-dist/tex/latex/amsfonts/amsfonts.sty))\n",
      "(/usr/share/texlive/texmf-dist/tex/latex/subfiles/subfiles.sty\n",
      "(/usr/share/texlive/texmf-dist/tex/latex/import/import.sty))\n",
      "(/usr/share/texlive/texmf-dist/tex/latex/amsmath/amsmath.sty\n",
      "For additional information on amsmath, use the `?' option.\n",
      "(/usr/share/texlive/texmf-dist/tex/latex/amsmath/amstext.sty\n",
      "(/usr/share/texlive/texmf-dist/tex/latex/amsmath/amsgen.sty))\n",
      "(/usr/share/texlive/texmf-dist/tex/latex/amsmath/amsbsy.sty)\n",
      "(/usr/share/texlive/texmf-dist/tex/latex/amsmath/amsopn.sty))\n",
      "(/usr/share/texlive/texmf-dist/tex/latex/graphics/graphicx.sty\n",
      "(/usr/share/texlive/texmf-dist/tex/latex/graphics/keyval.sty)\n",
      "(/usr/share/texlive/texmf-dist/tex/latex/graphics/graphics.sty\n",
      "(/usr/share/texlive/texmf-dist/tex/latex/graphics/trig.sty)\n",
      "(/usr/share/texlive/texmf-dist/tex/latex/graphics-cfg/graphics.cfg)\n",
      "(/usr/share/texlive/texmf-dist/tex/latex/graphics-def/pdftex.def)))\n",
      "(/usr/share/texlive/texmf-dist/tex/latex/caption/subcaption.sty\n",
      "(/usr/share/texlive/texmf-dist/tex/latex/caption/caption.sty\n",
      "(/usr/share/texlive/texmf-dist/tex/latex/caption/caption3.sty)\n",
      "\n",
      "Package caption Warning: Unknown document class (or package),\n",
      "(caption)                standard defaults will be used.\n",
      "See the caption package documentation for explanation.\n",
      "\n",
      ")) (/usr/share/texlive/texmf-dist/tex/latex/biblatex/biblatex.sty\n",
      "(/usr/share/texlive/texmf-dist/tex/generic/pdftexcmds/pdftexcmds.sty\n",
      "(/usr/share/texlive/texmf-dist/tex/generic/infwarerr/infwarerr.sty)\n",
      "(/usr/share/texlive/texmf-dist/tex/generic/iftex/iftex.sty)\n",
      "(/usr/share/texlive/texmf-dist/tex/generic/ltxcmds/ltxcmds.sty))\n",
      "(/usr/share/texlive/texmf-dist/tex/latex/etoolbox/etoolbox.sty)\n",
      "(/usr/share/texlive/texmf-dist/tex/latex/kvoptions/kvoptions.sty\n",
      "(/usr/share/texlive/texmf-dist/tex/generic/kvsetkeys/kvsetkeys.sty))\n",
      "(/usr/share/texlive/texmf-dist/tex/latex/logreq/logreq.sty\n",
      "(/usr/share/texlive/texmf-dist/tex/latex/logreq/logreq.def))\n",
      "(/usr/share/texlive/texmf-dist/tex/latex/base/ifthen.sty)\n",
      "(/usr/share/texlive/texmf-dist/tex/latex/url/url.sty)\n",
      "(/usr/share/texlive/texmf-dist/tex/latex/biblatex/blx-dm.def)\n",
      "(/usr/share/texlive/texmf-dist/tex/latex/biblatex/blx-compat.def)\n",
      "(/usr/share/texlive/texmf-dist/tex/latex/biblatex/biblatex.def)\n",
      "(/usr/share/texlive/texmf-dist/tex/latex/biblatex/bbx/alphabetic.bbx\n",
      "(/usr/share/texlive/texmf-dist/tex/latex/biblatex/bbx/standard.bbx))\n",
      "(/usr/share/texlive/texmf-dist/tex/latex/biblatex/cbx/alphabetic.cbx)\n",
      "(/usr/share/texlive/texmf-dist/tex/latex/biblatex/biblatex.cfg)\n",
      "(/usr/share/texlive/texmf-dist/tex/latex/l3kernel/expl3.sty\n",
      "(/usr/share/texlive/texmf-dist/tex/latex/l3backend/l3backend-pdftex.def))\n",
      "(/usr/share/texlive/texmf-dist/tex/latex/biblatex/blx-case-expl3.sty\n",
      "(/usr/share/texlive/texmf-dist/tex/latex/l3packages/xparse/xparse.sty)))\n",
      "(/usr/share/texlive/texmf-dist/tex/latex/psnfss/ot1ptm.fd) (./lossy.aux)\n",
      "(/usr/share/texlive/texmf-dist/tex/context/base/mkii/supp-pdf.mkii\n",
      "[Loading MPS to PDF converter (version 2006.09.02).]\n",
      ") (/usr/share/texlive/texmf-dist/tex/latex/epstopdf-pkg/epstopdf-base.sty\n",
      "(/usr/share/texlive/texmf-dist/tex/latex/latexconfig/epstopdf-sys.cfg))\n",
      "(/usr/share/texlive/texmf-dist/tex/latex/biblatex/lbx/english.lbx) (./lossy.bbl\n",
      ") (/usr/share/texlive/texmf-dist/tex/latex/amsfonts/umsa.fd)\n",
      "(/usr/share/texlive/texmf-dist/tex/latex/amsfonts/umsb.fd)\n",
      "Overfull \\hbox (2.50195pt too wide) in paragraph at lines 57--58\n",
      "[][] \n",
      "\n",
      "Underfull \\vbox (badness 4995) has occurred while \\output is active [1{/var/lib\n",
      "/texmf/fonts/map/pdftex/updmap/pdftex.map} <./img/doog.png>] (./lossy.aux) )\n",
      "(see the transcript file for additional information){/usr/share/texlive/texmf-d\n",
      "ist/fonts/enc/dvips/base/8r.enc}</usr/share/texlive/texmf-dist/fonts/type1/urw/\n",
      "times/utmb8a.pfb></usr/share/texlive/texmf-dist/fonts/type1/urw/times/utmr8a.pf\n",
      "b></usr/share/texlive/texmf-dist/fonts/type1/urw/times/utmri8a.pfb>\n",
      "Output written on lossy.pdf (1 page, 16751170 bytes).\n",
      "Transcript written on lossy.log.\n",
      "INFO - This is Biber 2.17\n",
      "INFO - Logfile is 'lossy.blg'\n",
      "INFO - Reading 'lossy.bcf'\n",
      "INFO - Found 1 citekeys in bib section 0\n",
      "INFO - Processing section 0\n",
      "INFO - Looking for bibtex file 'sources.bib' for section 0\n",
      "INFO - LaTeX decoding ...\n",
      "INFO - Found BibTeX data source 'sources.bib'\n",
      "INFO - Overriding locale 'en-US' defaults 'normalization = NFD' with 'normalization = prenormalized'\n",
      "INFO - Overriding locale 'en-US' defaults 'variable = shifted' with 'variable = non-ignorable'\n",
      "INFO - Sorting list 'anyt/global//global/global' of type 'entry' with template 'anyt' and locale 'en-US'\n",
      "INFO - No sort tailoring available for locale 'en-US'\n",
      "INFO - Writing 'lossy.bbl' with encoding 'UTF-8'\n",
      "INFO - Output to lossy.bbl\n",
      "This is pdfTeX, Version 3.141592653-2.6-1.40.22 (TeX Live 2022/dev/Debian) (preloaded format=pdflatex)\n",
      " restricted \\write18 enabled.\n",
      "entering extended mode\n",
      "(./lossy.tex\n",
      "LaTeX2e <2021-11-15> patch level 1\n",
      "L3 programming layer <2022-01-21>\n",
      "(/usr/share/texlive/texmf-dist/tex/latex/base/article.cls\n",
      "Document Class: article 2021/10/04 v1.4n Standard LaTeX document class\n",
      "(/usr/share/texlive/texmf-dist/tex/latex/base/size10.clo)) (./spconf.sty)\n",
      "(/usr/share/texlive/texmf-dist/tex/latex/base/inputenc.sty)\n",
      "(/usr/share/texlive/texmf-dist/tex/latex/setspace/setspace.sty)\n",
      "(/usr/share/texlive/texmf-dist/tex/latex/amsfonts/amssymb.sty\n",
      "(/usr/share/texlive/texmf-dist/tex/latex/amsfonts/amsfonts.sty))\n",
      "(/usr/share/texlive/texmf-dist/tex/latex/subfiles/subfiles.sty\n",
      "(/usr/share/texlive/texmf-dist/tex/latex/import/import.sty))\n",
      "(/usr/share/texlive/texmf-dist/tex/latex/amsmath/amsmath.sty\n",
      "For additional information on amsmath, use the `?' option.\n",
      "(/usr/share/texlive/texmf-dist/tex/latex/amsmath/amstext.sty\n",
      "(/usr/share/texlive/texmf-dist/tex/latex/amsmath/amsgen.sty))\n",
      "(/usr/share/texlive/texmf-dist/tex/latex/amsmath/amsbsy.sty)\n",
      "(/usr/share/texlive/texmf-dist/tex/latex/amsmath/amsopn.sty))\n",
      "(/usr/share/texlive/texmf-dist/tex/latex/graphics/graphicx.sty\n",
      "(/usr/share/texlive/texmf-dist/tex/latex/graphics/keyval.sty)\n",
      "(/usr/share/texlive/texmf-dist/tex/latex/graphics/graphics.sty\n",
      "(/usr/share/texlive/texmf-dist/tex/latex/graphics/trig.sty)\n",
      "(/usr/share/texlive/texmf-dist/tex/latex/graphics-cfg/graphics.cfg)\n",
      "(/usr/share/texlive/texmf-dist/tex/latex/graphics-def/pdftex.def)))\n",
      "(/usr/share/texlive/texmf-dist/tex/latex/caption/subcaption.sty\n",
      "(/usr/share/texlive/texmf-dist/tex/latex/caption/caption.sty\n",
      "(/usr/share/texlive/texmf-dist/tex/latex/caption/caption3.sty)\n",
      "\n",
      "Package caption Warning: Unknown document class (or package),\n",
      "(caption)                standard defaults will be used.\n",
      "See the caption package documentation for explanation.\n",
      "\n",
      ")) (/usr/share/texlive/texmf-dist/tex/latex/biblatex/biblatex.sty\n",
      "(/usr/share/texlive/texmf-dist/tex/generic/pdftexcmds/pdftexcmds.sty\n",
      "(/usr/share/texlive/texmf-dist/tex/generic/infwarerr/infwarerr.sty)\n",
      "(/usr/share/texlive/texmf-dist/tex/generic/iftex/iftex.sty)\n",
      "(/usr/share/texlive/texmf-dist/tex/generic/ltxcmds/ltxcmds.sty))\n",
      "(/usr/share/texlive/texmf-dist/tex/latex/etoolbox/etoolbox.sty)\n",
      "(/usr/share/texlive/texmf-dist/tex/latex/kvoptions/kvoptions.sty\n",
      "(/usr/share/texlive/texmf-dist/tex/generic/kvsetkeys/kvsetkeys.sty))\n",
      "(/usr/share/texlive/texmf-dist/tex/latex/logreq/logreq.sty\n",
      "(/usr/share/texlive/texmf-dist/tex/latex/logreq/logreq.def))\n",
      "(/usr/share/texlive/texmf-dist/tex/latex/base/ifthen.sty)\n",
      "(/usr/share/texlive/texmf-dist/tex/latex/url/url.sty)\n",
      "(/usr/share/texlive/texmf-dist/tex/latex/biblatex/blx-dm.def)\n",
      "(/usr/share/texlive/texmf-dist/tex/latex/biblatex/blx-compat.def)\n",
      "(/usr/share/texlive/texmf-dist/tex/latex/biblatex/biblatex.def)\n",
      "(/usr/share/texlive/texmf-dist/tex/latex/biblatex/bbx/alphabetic.bbx\n",
      "(/usr/share/texlive/texmf-dist/tex/latex/biblatex/bbx/standard.bbx))\n",
      "(/usr/share/texlive/texmf-dist/tex/latex/biblatex/cbx/alphabetic.cbx)\n",
      "(/usr/share/texlive/texmf-dist/tex/latex/biblatex/biblatex.cfg)\n",
      "(/usr/share/texlive/texmf-dist/tex/latex/l3kernel/expl3.sty\n",
      "(/usr/share/texlive/texmf-dist/tex/latex/l3backend/l3backend-pdftex.def))\n",
      "(/usr/share/texlive/texmf-dist/tex/latex/biblatex/blx-case-expl3.sty\n",
      "(/usr/share/texlive/texmf-dist/tex/latex/l3packages/xparse/xparse.sty)))\n",
      "(/usr/share/texlive/texmf-dist/tex/latex/psnfss/ot1ptm.fd) (./lossy.aux)\n",
      "(/usr/share/texlive/texmf-dist/tex/context/base/mkii/supp-pdf.mkii\n",
      "[Loading MPS to PDF converter (version 2006.09.02).]\n",
      ") (/usr/share/texlive/texmf-dist/tex/latex/epstopdf-pkg/epstopdf-base.sty\n",
      "(/usr/share/texlive/texmf-dist/tex/latex/latexconfig/epstopdf-sys.cfg))\n",
      "(/usr/share/texlive/texmf-dist/tex/latex/biblatex/lbx/english.lbx) (./lossy.bbl\n",
      ") (/usr/share/texlive/texmf-dist/tex/latex/amsfonts/umsa.fd)\n",
      "(/usr/share/texlive/texmf-dist/tex/latex/amsfonts/umsb.fd)\n",
      "Overfull \\hbox (2.50195pt too wide) in paragraph at lines 57--58\n",
      "[][] \n",
      "\n",
      "Underfull \\vbox (badness 4995) has occurred while \\output is active [1{/var/lib\n",
      "/texmf/fonts/map/pdftex/updmap/pdftex.map} <./img/doog.png>] (./lossy.aux) )\n",
      "(see the transcript file for additional information){/usr/share/texlive/texmf-d\n",
      "ist/fonts/enc/dvips/base/8r.enc}</usr/share/texlive/texmf-dist/fonts/type1/urw/\n",
      "times/utmb8a.pfb></usr/share/texlive/texmf-dist/fonts/type1/urw/times/utmr8a.pf\n",
      "b></usr/share/texlive/texmf-dist/fonts/type1/urw/times/utmri8a.pfb>\n",
      "Output written on lossy.pdf (1 page, 16751170 bytes).\n",
      "Transcript written on lossy.log.\n"
     ]
    },
    {
     "name": "stderr",
     "output_type": "stream",
     "text": [
      "/home/server/.local/lib/python3.10/site-packages/traitlets/traitlets.py:2773: FutureWarning: --TagRemovePreprocessor.remove_cell_tags={\"remove_cell\"} for containers is deprecated in traitlets 5.0. You can pass `--TagRemovePreprocessor.remove_cell_tags item` ... multiple times to add items to a list.\n",
      "  warn(\n",
      "[NbConvertApp] Converting notebook lossy.ipynb to markdown\n",
      "[NbConvertApp] Writing 2789 bytes to lossy.md\n",
      "Use of uninitialized value in quotemeta at /usr/share/perl5/Biber/Config.pm line 228.\n",
      "Use of uninitialized value $tool in concatenation (.) or string at /usr/share/perl5/Biber/Config.pm line 307.\n",
      "Use of uninitialized value $opt in hash element at /usr/share/perl5/Biber/Config.pm line 967.\n",
      "Use of uninitialized value within %Biber::Config::CONFIG_OPTSCOPE_BIBLATEX in hash dereference at /usr/share/perl5/Biber/Config.pm line 967.\n",
      "Use of uninitialized value $opt in hash element at /usr/share/perl5/Biber/Config.pm line 972.\n",
      "Use of uninitialized value within %Biber::Config::CONFIG_OPTSCOPE_BIBLATEX in hash dereference at /usr/share/perl5/Biber/Config.pm line 972.\n",
      "Use of uninitialized value $opt in hash element at /usr/share/perl5/Biber/Config.pm line 977.\n",
      "Use of uninitialized value within %Biber::Config::CONFIG_OPTSCOPE_BIBLATEX in hash dereference at /usr/share/perl5/Biber/Config.pm line 977.\n",
      "Use of uninitialized value $opt in hash element at /usr/share/perl5/Biber/Config.pm line 967.\n",
      "Use of uninitialized value within %Biber::Config::CONFIG_OPTSCOPE_BIBLATEX in hash dereference at /usr/share/perl5/Biber/Config.pm line 967.\n",
      "Use of uninitialized value $opt in hash element at /usr/share/perl5/Biber/Config.pm line 972.\n",
      "Use of uninitialized value within %Biber::Config::CONFIG_OPTSCOPE_BIBLATEX in hash dereference at /usr/share/perl5/Biber/Config.pm line 972.\n",
      "Use of uninitialized value $opt in hash element at /usr/share/perl5/Biber/Config.pm line 977.\n",
      "Use of uninitialized value within %Biber::Config::CONFIG_OPTSCOPE_BIBLATEX in hash dereference at /usr/share/perl5/Biber/Config.pm line 977.\n",
      "Use of uninitialized value $opt in hash element at /usr/share/perl5/Biber/Config.pm line 967.\n",
      "Use of uninitialized value within %Biber::Config::CONFIG_OPTSCOPE_BIBLATEX in hash dereference at /usr/share/perl5/Biber/Config.pm line 967.\n",
      "Use of uninitialized value $opt in hash element at /usr/share/perl5/Biber/Config.pm line 972.\n",
      "Use of uninitialized value within %Biber::Config::CONFIG_OPTSCOPE_BIBLATEX in hash dereference at /usr/share/perl5/Biber/Config.pm line 972.\n",
      "Use of uninitialized value $opt in hash element at /usr/share/perl5/Biber/Config.pm line 977.\n",
      "Use of uninitialized value within %Biber::Config::CONFIG_OPTSCOPE_BIBLATEX in hash dereference at /usr/share/perl5/Biber/Config.pm line 977.\n"
     ]
    }
   ],
   "source": [
    "run(`jupyter-nbconvert --to markdown lossy.ipynb --TagRemovePreprocessor.remove_cell_tags='{\"remove_cell\"}'`);\n",
    "run(`mv lossy.md lossy.tex`);\n",
    "run(`pdflatex lossy`);\n",
    "run(`biber lossy`);\n",
    "run(`pdflatex lossy`);"
   ]
  }
 ],
 "metadata": {
  "kernelspec": {
   "display_name": "Julia 1.7.0-beta3",
   "language": "julia",
   "name": "julia-1.7"
  },
  "language_info": {
   "file_extension": ".jl",
   "mimetype": "application/julia",
   "name": "julia",
   "version": "1.7.0"
  }
 },
 "nbformat": 4,
 "nbformat_minor": 5
}
