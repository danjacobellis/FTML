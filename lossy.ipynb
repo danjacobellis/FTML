{
 "cells": [
  {
   "cell_type": "raw",
   "id": "09f3aaff-f5da-4527-9701-4c892767299d",
   "metadata": {},
   "source": [
    "\\documentclass{article}\n",
    "\\usepackage{spconf}\n",
    "\\usepackage[utf8]{inputenc}\n",
    "\\usepackage{setspace}\n",
    "\\usepackage{amssymb}\n",
    "\\usepackage{subfiles}\n",
    "\\usepackage{amsmath}\n",
    "\\usepackage{graphicx}\n",
    "\\usepackage{subcaption}\n",
    "\\usepackage{enumitem}\n",
    "\\usepackage[\n",
    "backend=biber,\n",
    "style=alphabetic,\n",
    "giveninits=true\n",
    "]{biblatex}\n",
    "\\DeclareNameAlias{default}{family-given}\n",
    "\\addbibresource{sources.bib}\n"
   ]
  },
  {
   "cell_type": "raw",
   "id": "b0bbbe46-48ed-4342-a9fd-27e829817564",
   "metadata": {},
   "source": [
    "\\graphicspath{ {./img} }\n",
    "\\setlist[itemize]{leftmargin=*}\n"
   ]
  },
  {
   "cell_type": "raw",
   "id": "07f748d2-65ab-4c4d-abec-098668f67bb1",
   "metadata": {},
   "source": [
    "\\title{Lossy Compression to Prevent Evasion and Poisoning}\n",
    "\\name{Dan Jacobellis and Matthew Qin}\n",
    "\\address{University of Texas at Austin}\n",
    "\\date{\\today} "
   ]
  },
  {
   "cell_type": "raw",
   "id": "1f43b7c0-5c20-4642-b94c-30848b1a1c09",
   "metadata": {},
   "source": [
    "\\begin{document}\n",
    "\n",
    "\\def\\IEEEQED{\\mbox{\\rule[0pt]{1.3ex}{1.3ex}}} % for a filled box\n",
    "\\newcommand{\\ep}{\\hspace*{\\fill}~\\IEEEQED}\n",
    "\\newenvironment{mproof}[1][Proof]{{\\bf #1: }}{\\ep\\vspace{.1in}}\n",
    "\n",
    "\\maketitle"
   ]
  },
  {
   "cell_type": "raw",
   "id": "7f047958-f060-4b44-8874-9ab12d354f06",
   "metadata": {},
   "source": [
    "\\begin{abstract}\n"
   ]
  },
  {
   "cell_type": "markdown",
   "id": "f5adead8-ba13-4f3c-bea1-4e923c036c9a",
   "metadata": {},
   "source": [
    "Evasion and poisoning attacks are a major concern for machine learning models that operate on high dimensional data such as audio, images, and video.\n",
    "One of the most insidious aspects of these attacks is that they only require subtle perturbations in the input space to succeed.\n",
    "In many cases, a successful perturbation can be so small as to be undetectable to a careful human auditor.\n",
    "However, in this work, we show that perturbations introduced by these attacks can be sanitized by lossy compression.\n",
    "We show that for image classification, the accuracy gained from sanitizing the attack outweighs the accuracy lost from compression.\n",
    "We conduct experiments on several images using a variety of codecs and perturbation sizes.\n",
    "Our results suggest that lossy compression is a powerful strategy to mitigate these attacks.\n",
    "In addition, we show that learning directly on compressed representations can significantly reduces the memory throughput required for training, thus increasing efficiency with only a modest loss in accuracy.\n",
    "\n"
   ]
  },
  {
   "cell_type": "raw",
   "id": "d70d6356-d396-4118-89f2-760bed87e38b",
   "metadata": {},
   "source": [
    "\n",
    "\\end{abstract}\n"
   ]
  },
  {
   "cell_type": "raw",
   "id": "1974ee2a-9de3-40aa-a526-70b4405184fa",
   "metadata": {},
   "source": [
    "\\section{Introduction} \\label{sec:introduction}\n"
   ]
  },
  {
   "cell_type": "markdown",
   "id": "019e37a0-d4f9-403f-b248-bf40a2e1ae03",
   "metadata": {},
   "source": [
    "In recent years, machine learning models have become increasingly prevalent in a wide range of applications, from computer vision and speech recognition to natural language processing and even medical diagnosis.\n",
    "These attacks are particularly concerning because they can be implemented using subtle perturbations in the input space that are difficult or impossible for a human to detect.\n",
    "\n",
    "In this paper, we present a new approach to mitigating evasion and poisoning attacks in machine learning models.\n",
    "Our approach is based on the observation that these attacks often involve adding small perturbations to the input data, which can be effectively sanitized by lossy compression.\n",
    "Since standardized lossy compression techniques focus on preserving visible features, they can be used to target the perturbation introduced by an attack while preserving the features necessary to achieve high accuracy.\n",
    "\n",
    "We conduct experiments on an image classification task using a variety of codecs and perturbation sizes to evaluate the effectiveness of our approach.\n",
    "Our results show that sanitizing the perturbations using lossy compression can significantly improve the accuracy of the model, even when using relatively high levels of compression.\n",
    "Furthermore, we show that learning directly on compressed representations can significantly reduce the memory throughput required for training, thus increasing efficiency with only a modest loss in accuracy."
   ]
  },
  {
   "cell_type": "raw",
   "id": "ff458aad-ffda-42b6-a4e6-bbfcd360b0a8",
   "metadata": {},
   "source": [
    "Our contributions can be summarized as follows:\n",
    "\\begin{itemize}\n",
    "\\itemsep0em \n",
    "\\item We evaluate the efficacy of gradient-based evasion attacks as the size of the perturbation increases on several images from the Imagenet validation set.\n",
    "\\item We apply different lossy image codecs to perturbed images to understand how much accuracy is lost from the encoder and how much accuracy is gained from sanitation.\n",
    "\\item We use multiscale structural similarity to evaluate the quality of attacked images before and after lossy codecs.\n",
    "\\item We train image classifiers CIFAR-10 using different lossy codecs to understand their impact on accuracy and potential to prevent poisoning.\n",
    "\\item We demonstrate that the increased information density of lossy encoded representations can be used to significantly reduce memory throughput required to train an audio classifier.\n",
    "\\item We provide insights and recommendations on how and when to utilize lossy compression to prevent attacks.\n",
    "\\end{itemize}\n"
   ]
  },
  {
   "cell_type": "markdown",
   "id": "a2d30cae-1702-4a7e-998c-e3b8ff2b0d46",
   "metadata": {},
   "source": [
    "The rest of this paper is organized as follows. Section 2 presents an overview of related work, including (1) gradient-based evasion and poisoning attacks, (2) an overview of lossy compression standards and perceptual quality, (3) prior research relating adversarial examples and robust features, and (4)  previous approaches to training on lossy encoded data. In Section 3, we describe our approach for using lossy compression to prevent evasion and poisoning attacks. Then, we propose a novel approach for training neural networks directly on lossy encoded data suing binary neural networks to preserve quantization. In Section 4, we present experimental results on mitigating attacks to image classifiers and increasing the efficiency of an audio classifier. In Section 5, we provide our recommendations for when and how to leverage lossy compression for more accurate models and discuss future directions to explore."
   ]
  },
  {
   "cell_type": "raw",
   "id": "b15dbe7b-09f1-4277-8765-091f3d67aa32",
   "metadata": {},
   "source": [
    "\\section{Related Work} \\label{sec:related}\n",
    "\n",
    "\\subsection{Evasion} \\label{sec:evasion}\n"
   ]
  },
  {
   "cell_type": "markdown",
   "id": "4bba808f-bd92-4a6b-ba5d-42f82d2a45ed",
   "metadata": {},
   "source": [
    "We consider adversarial examples in the context of two types of attacks: evasion and poisoning. Evasion attacks exploit knowledge of a model that's already been trained. For example, if an attacker wants a malicious email to pass through a spam filter undetected, they might use full or partial knowledge of the behavior of the trained spam filter to find \"magic words\" that cause an email to be classified as not spam.\n",
    "\n",
    "These attacks are typically performed using gradient-based methods, where the gradient of the loss function with respect to the input $\\Delta_x \\mathcal{L}(x,y,\\theta)$ is used to guide the perturbation. Since moving in the \\textit{opposite direction} of the gradient increases model accuracy, we can create a perturbation by moving \\textit{with the direction} of the gradient, i.e. $$x_{\\text{adv}} = x_0 + \\epsilon \\Delta_x \\mathcal{L}(x,y,\\theta).$$\n",
    "A simple, effective, and widely studied variant of this attack is the fast gradient sign method (FGSM) \\cite{goodfellow2014explaining}, where the sign of the gradient is used instead $$x_{\\text{adv}} = x_0 + \\epsilon \\text{ sign} \\left( \\Delta_x \\mathcal{L}(x,y,\\theta) \\right).$$\n",
    "This strictly limits the amplitude of the perturbation to $\\pm \\epsilon$ while maximizing its effect on model predictions. The limitation of the amplitude is what prevents the perturbation from being detected. For example, in figure \\ref{fig:doog}, we show how epsilon can be chosen to limit the perturbation to two, four, or six of the least significant bits of an 8-bit image.\n"
   ]
  },
  {
   "cell_type": "raw",
   "id": "2e0777ad-baf3-483f-a1ae-472446fd697a",
   "metadata": {},
   "source": [
    "\\begin{figure}[h!]\n",
    "  \\includegraphics[scale=0.25]{doog}\n",
    "  \\caption{Evasion Attack using FGSM}\n",
    "  \\label{fig:doog}\n",
    "\\end{figure}\n",
    "\n",
    "\\subsection{Poisoning} \\label{sec:poisoning}"
   ]
  },
  {
   "cell_type": "markdown",
   "id": "a12aa4f3-fdf2-4a61-aeb9-40b718022b82",
   "metadata": {},
   "source": [
    "In a poisoning attack, the dataset is contaminated, usually with the goal of introducing a backdoor. For example, if an attacker wants to prevent a facial recognition model from working on one or more subjects, they might upload an altered image public to the web where the dataset is sourced for training. Recent poisoning attacks such as gradient matching \\cite{geiping2020witches} have been shown to be effective on very large datasets like imagenet. With gradient matching, small, imperceptible perturbations on as little as 0.1% of the training data are sufficient for a trigger image to be classified as any desired class by the attacker. Additionally, it has been shown that gradient matching only needs partial model of the model architecture, and it has been shown to translate between different image classification models. For example, poisoning data by assuming a ResNet20 model still works when a VGG13 model is trained."
   ]
  },
  {
   "cell_type": "raw",
   "id": "b57a176a-8eca-4fcd-9a9d-88d628351a31",
   "metadata": {},
   "source": [
    "\\subsection{Lossy Compression and Perceptual Quality} \\label{sec:lossy}\n"
   ]
  },
  {
   "cell_type": "markdown",
   "id": "a2f8da63-b566-4ec6-8f88-d3c2ff8e56b7",
   "metadata": {},
   "source": []
  },
  {
   "cell_type": "raw",
   "id": "1d1ddb94-fde1-4e9a-818f-621815a75f10",
   "metadata": {},
   "source": [
    "\\subsection{Adversarial Examples and Robust Features} \\label{sec:lossy}"
   ]
  },
  {
   "cell_type": "markdown",
   "id": "181fca14-7f09-4527-be2c-b3dd4253bf78",
   "metadata": {},
   "source": [
    "Researchers have demonstrated that adversarial examples, such as those produced by FGSM, can be attributed to the presence of \\textit{non-robust features} \\cite{ilyas2019adversarial}"
   ]
  },
  {
   "cell_type": "markdown",
   "id": "15746264-5097-4981-a219-b3ea6bce68ac",
   "metadata": {},
   "source": []
  },
  {
   "cell_type": "raw",
   "id": "45ef790e-ff5e-4029-91dc-53f7dd445d09",
   "metadata": {},
   "source": [
    "\\subsection{Training on Encoded Data} \\label{sec:lossy}\n"
   ]
  },
  {
   "cell_type": "markdown",
   "id": "00ca65e9-b59e-4e9f-b983-866fb60a0aec",
   "metadata": {},
   "source": []
  },
  {
   "cell_type": "raw",
   "id": "3655e9d7-941b-4666-be97-2e67b964af01",
   "metadata": {},
   "source": [
    "\\section{Methods} \\label{sec:methods}\n"
   ]
  },
  {
   "cell_type": "markdown",
   "id": "3fb6d8d8-7a04-486e-bb65-909bcfa8a3aa",
   "metadata": {},
   "source": []
  },
  {
   "cell_type": "raw",
   "id": "c49933cd-cfa6-4501-85b4-b09f1ce42073",
   "metadata": {},
   "source": [
    "\\section{Experiments} \\label{sec:methods}\n"
   ]
  },
  {
   "cell_type": "raw",
   "id": "332ea2c5-433a-4b15-ad01-54b9128ec362",
   "metadata": {},
   "source": [
    "\\section{Discussion} \\label{sec:methods}\n"
   ]
  },
  {
   "cell_type": "raw",
   "id": "6096af1e-4867-451e-8046-da784dfa66ef",
   "metadata": {},
   "source": []
  },
  {
   "cell_type": "raw",
   "id": "7260bebb-fe9a-4b25-a1d0-3b3b61d7bb75",
   "metadata": {},
   "source": [
    "\\cite{geiping2020witches}"
   ]
  },
  {
   "cell_type": "raw",
   "id": "be154c06-b80d-4161-b8e1-170cea780bb5",
   "metadata": {},
   "source": [
    "\\printbibliography\n",
    "\\end{document}"
   ]
  },
  {
   "cell_type": "code",
   "execution_count": 1,
   "id": "865fa049-8f79-49d9-a3ec-3e90f500ada1",
   "metadata": {},
   "outputs": [
    {
     "name": "stdout",
     "output_type": "stream",
     "text": [
      "This is pdfTeX, Version 3.141592653-2.6-1.40.22 (TeX Live 2022/dev/Debian) (preloaded format=pdflatex)\n",
      " restricted \\write18 enabled.\n",
      "entering extended mode\n",
      "(./lossy.tex\n",
      "LaTeX2e <2021-11-15> patch level 1\n",
      "L3 programming layer <2022-01-21>\n",
      "(/usr/share/texlive/texmf-dist/tex/latex/base/article.cls\n",
      "Document Class: article 2021/10/04 v1.4n Standard LaTeX document class\n",
      "(/usr/share/texlive/texmf-dist/tex/latex/base/size10.clo)) (./spconf.sty)\n",
      "(/usr/share/texlive/texmf-dist/tex/latex/base/inputenc.sty)\n",
      "(/usr/share/texlive/texmf-dist/tex/latex/setspace/setspace.sty)\n",
      "(/usr/share/texlive/texmf-dist/tex/latex/amsfonts/amssymb.sty\n",
      "(/usr/share/texlive/texmf-dist/tex/latex/amsfonts/amsfonts.sty))\n",
      "(/usr/share/texlive/texmf-dist/tex/latex/subfiles/subfiles.sty\n",
      "(/usr/share/texlive/texmf-dist/tex/latex/import/import.sty))\n",
      "(/usr/share/texlive/texmf-dist/tex/latex/amsmath/amsmath.sty\n",
      "For additional information on amsmath, use the `?' option.\n",
      "(/usr/share/texlive/texmf-dist/tex/latex/amsmath/amstext.sty\n",
      "(/usr/share/texlive/texmf-dist/tex/latex/amsmath/amsgen.sty))\n",
      "(/usr/share/texlive/texmf-dist/tex/latex/amsmath/amsbsy.sty)\n",
      "(/usr/share/texlive/texmf-dist/tex/latex/amsmath/amsopn.sty))\n",
      "(/usr/share/texlive/texmf-dist/tex/latex/graphics/graphicx.sty\n",
      "(/usr/share/texlive/texmf-dist/tex/latex/graphics/keyval.sty)\n",
      "(/usr/share/texlive/texmf-dist/tex/latex/graphics/graphics.sty\n",
      "(/usr/share/texlive/texmf-dist/tex/latex/graphics/trig.sty)\n",
      "(/usr/share/texlive/texmf-dist/tex/latex/graphics-cfg/graphics.cfg)\n",
      "(/usr/share/texlive/texmf-dist/tex/latex/graphics-def/pdftex.def)))\n",
      "(/usr/share/texlive/texmf-dist/tex/latex/caption/subcaption.sty\n",
      "(/usr/share/texlive/texmf-dist/tex/latex/caption/caption.sty\n",
      "(/usr/share/texlive/texmf-dist/tex/latex/caption/caption3.sty)\n",
      "\n",
      "Package caption Warning: Unknown document class (or package),\n",
      "(caption)                standard defaults will be used.\n",
      "See the caption package documentation for explanation.\n",
      "\n",
      ")) (/usr/share/texlive/texmf-dist/tex/latex/biblatex/biblatex.sty\n",
      "(/usr/share/texlive/texmf-dist/tex/generic/pdftexcmds/pdftexcmds.sty\n",
      "(/usr/share/texlive/texmf-dist/tex/generic/infwarerr/infwarerr.sty)\n",
      "(/usr/share/texlive/texmf-dist/tex/generic/iftex/iftex.sty)\n",
      "(/usr/share/texlive/texmf-dist/tex/generic/ltxcmds/ltxcmds.sty))\n",
      "(/usr/share/texlive/texmf-dist/tex/latex/etoolbox/etoolbox.sty)\n",
      "(/usr/share/texlive/texmf-dist/tex/latex/kvoptions/kvoptions.sty\n",
      "(/usr/share/texlive/texmf-dist/tex/generic/kvsetkeys/kvsetkeys.sty))\n",
      "(/usr/share/texlive/texmf-dist/tex/latex/logreq/logreq.sty\n",
      "(/usr/share/texlive/texmf-dist/tex/latex/logreq/logreq.def))\n",
      "(/usr/share/texlive/texmf-dist/tex/latex/base/ifthen.sty)\n",
      "(/usr/share/texlive/texmf-dist/tex/latex/url/url.sty)\n",
      "(/usr/share/texlive/texmf-dist/tex/latex/biblatex/blx-dm.def)\n",
      "(/usr/share/texlive/texmf-dist/tex/latex/biblatex/blx-compat.def)\n",
      "(/usr/share/texlive/texmf-dist/tex/latex/biblatex/biblatex.def)\n",
      "(/usr/share/texlive/texmf-dist/tex/latex/biblatex/bbx/alphabetic.bbx\n",
      "(/usr/share/texlive/texmf-dist/tex/latex/biblatex/bbx/standard.bbx))\n",
      "(/usr/share/texlive/texmf-dist/tex/latex/biblatex/cbx/alphabetic.cbx)\n",
      "(/usr/share/texlive/texmf-dist/tex/latex/biblatex/biblatex.cfg)\n",
      "(/usr/share/texlive/texmf-dist/tex/latex/l3kernel/expl3.sty\n",
      "(/usr/share/texlive/texmf-dist/tex/latex/l3backend/l3backend-pdftex.def))\n",
      "(/usr/share/texlive/texmf-dist/tex/latex/biblatex/blx-case-expl3.sty\n",
      "(/usr/share/texlive/texmf-dist/tex/latex/l3packages/xparse/xparse.sty)))\n",
      "(/usr/share/texlive/texmf-dist/tex/latex/psnfss/ot1ptm.fd) (./lossy.aux)\n",
      "(/usr/share/texlive/texmf-dist/tex/context/base/mkii/supp-pdf.mkii\n",
      "[Loading MPS to PDF converter (version 2006.09.02).]\n",
      ") (/usr/share/texlive/texmf-dist/tex/latex/epstopdf-pkg/epstopdf-base.sty\n",
      "(/usr/share/texlive/texmf-dist/tex/latex/latexconfig/epstopdf-sys.cfg))\n",
      "(/usr/share/texlive/texmf-dist/tex/latex/biblatex/lbx/english.lbx) (./lossy.bbl\n",
      ") (/usr/share/texlive/texmf-dist/tex/latex/amsfonts/umsa.fd)\n",
      "(/usr/share/texlive/texmf-dist/tex/latex/amsfonts/umsb.fd)\n",
      "Overfull \\hbox (2.50195pt too wide) in paragraph at lines 57--58\n",
      "[][] \n",
      "\n",
      "Underfull \\vbox (badness 4995) has occurred while \\output is active [1{/var/lib\n",
      "/texmf/fonts/map/pdftex/updmap/pdftex.map} <./img/doog.png>] (./lossy.aux) )\n",
      "(see the transcript file for additional information){/usr/share/texlive/texmf-d\n",
      "ist/fonts/enc/dvips/base/8r.enc}</usr/share/texlive/texmf-dist/fonts/type1/urw/\n",
      "times/utmb8a.pfb></usr/share/texlive/texmf-dist/fonts/type1/urw/times/utmr8a.pf\n",
      "b></usr/share/texlive/texmf-dist/fonts/type1/urw/times/utmri8a.pfb>\n",
      "Output written on lossy.pdf (1 page, 16751170 bytes).\n",
      "Transcript written on lossy.log.\n",
      "INFO - This is Biber 2.17\n",
      "INFO - Logfile is 'lossy.blg'\n",
      "INFO - Reading 'lossy.bcf'\n",
      "INFO - Found 1 citekeys in bib section 0\n",
      "INFO - Processing section 0\n",
      "INFO - Looking for bibtex file 'sources.bib' for section 0\n",
      "INFO - LaTeX decoding ...\n",
      "INFO - Found BibTeX data source 'sources.bib'\n",
      "INFO - Overriding locale 'en-US' defaults 'variable = shifted' with 'variable = non-ignorable'\n",
      "INFO - Overriding locale 'en-US' defaults 'normalization = NFD' with 'normalization = prenormalized'\n",
      "INFO - Sorting list 'anyt/global//global/global' of type 'entry' with template 'anyt' and locale 'en-US'\n",
      "INFO - No sort tailoring available for locale 'en-US'\n",
      "INFO - Writing 'lossy.bbl' with encoding 'UTF-8'\n",
      "INFO - Output to lossy.bbl\n",
      "This is pdfTeX, Version 3.141592653-2.6-1.40.22 (TeX Live 2022/dev/Debian) (preloaded format=pdflatex)\n",
      " restricted \\write18 enabled.\n",
      "entering extended mode\n",
      "(./lossy.tex\n",
      "LaTeX2e <2021-11-15> patch level 1\n",
      "L3 programming layer <2022-01-21>\n",
      "(/usr/share/texlive/texmf-dist/tex/latex/base/article.cls\n",
      "Document Class: article 2021/10/04 v1.4n Standard LaTeX document class\n",
      "(/usr/share/texlive/texmf-dist/tex/latex/base/size10.clo)) (./spconf.sty)\n",
      "(/usr/share/texlive/texmf-dist/tex/latex/base/inputenc.sty)\n",
      "(/usr/share/texlive/texmf-dist/tex/latex/setspace/setspace.sty)\n",
      "(/usr/share/texlive/texmf-dist/tex/latex/amsfonts/amssymb.sty\n",
      "(/usr/share/texlive/texmf-dist/tex/latex/amsfonts/amsfonts.sty))\n",
      "(/usr/share/texlive/texmf-dist/tex/latex/subfiles/subfiles.sty\n",
      "(/usr/share/texlive/texmf-dist/tex/latex/import/import.sty))\n",
      "(/usr/share/texlive/texmf-dist/tex/latex/amsmath/amsmath.sty\n",
      "For additional information on amsmath, use the `?' option.\n",
      "(/usr/share/texlive/texmf-dist/tex/latex/amsmath/amstext.sty\n",
      "(/usr/share/texlive/texmf-dist/tex/latex/amsmath/amsgen.sty))\n",
      "(/usr/share/texlive/texmf-dist/tex/latex/amsmath/amsbsy.sty)\n",
      "(/usr/share/texlive/texmf-dist/tex/latex/amsmath/amsopn.sty))\n",
      "(/usr/share/texlive/texmf-dist/tex/latex/graphics/graphicx.sty\n",
      "(/usr/share/texlive/texmf-dist/tex/latex/graphics/keyval.sty)\n",
      "(/usr/share/texlive/texmf-dist/tex/latex/graphics/graphics.sty\n",
      "(/usr/share/texlive/texmf-dist/tex/latex/graphics/trig.sty)\n",
      "(/usr/share/texlive/texmf-dist/tex/latex/graphics-cfg/graphics.cfg)\n",
      "(/usr/share/texlive/texmf-dist/tex/latex/graphics-def/pdftex.def)))\n",
      "(/usr/share/texlive/texmf-dist/tex/latex/caption/subcaption.sty\n",
      "(/usr/share/texlive/texmf-dist/tex/latex/caption/caption.sty\n",
      "(/usr/share/texlive/texmf-dist/tex/latex/caption/caption3.sty)\n",
      "\n",
      "Package caption Warning: Unknown document class (or package),\n",
      "(caption)                standard defaults will be used.\n",
      "See the caption package documentation for explanation.\n",
      "\n",
      ")) (/usr/share/texlive/texmf-dist/tex/latex/biblatex/biblatex.sty\n",
      "(/usr/share/texlive/texmf-dist/tex/generic/pdftexcmds/pdftexcmds.sty\n",
      "(/usr/share/texlive/texmf-dist/tex/generic/infwarerr/infwarerr.sty)\n",
      "(/usr/share/texlive/texmf-dist/tex/generic/iftex/iftex.sty)\n",
      "(/usr/share/texlive/texmf-dist/tex/generic/ltxcmds/ltxcmds.sty))\n",
      "(/usr/share/texlive/texmf-dist/tex/latex/etoolbox/etoolbox.sty)\n",
      "(/usr/share/texlive/texmf-dist/tex/latex/kvoptions/kvoptions.sty\n",
      "(/usr/share/texlive/texmf-dist/tex/generic/kvsetkeys/kvsetkeys.sty))\n",
      "(/usr/share/texlive/texmf-dist/tex/latex/logreq/logreq.sty\n",
      "(/usr/share/texlive/texmf-dist/tex/latex/logreq/logreq.def))\n",
      "(/usr/share/texlive/texmf-dist/tex/latex/base/ifthen.sty)\n",
      "(/usr/share/texlive/texmf-dist/tex/latex/url/url.sty)\n",
      "(/usr/share/texlive/texmf-dist/tex/latex/biblatex/blx-dm.def)\n",
      "(/usr/share/texlive/texmf-dist/tex/latex/biblatex/blx-compat.def)\n",
      "(/usr/share/texlive/texmf-dist/tex/latex/biblatex/biblatex.def)\n",
      "(/usr/share/texlive/texmf-dist/tex/latex/biblatex/bbx/alphabetic.bbx\n",
      "(/usr/share/texlive/texmf-dist/tex/latex/biblatex/bbx/standard.bbx))\n",
      "(/usr/share/texlive/texmf-dist/tex/latex/biblatex/cbx/alphabetic.cbx)\n",
      "(/usr/share/texlive/texmf-dist/tex/latex/biblatex/biblatex.cfg)\n",
      "(/usr/share/texlive/texmf-dist/tex/latex/l3kernel/expl3.sty\n",
      "(/usr/share/texlive/texmf-dist/tex/latex/l3backend/l3backend-pdftex.def))\n",
      "(/usr/share/texlive/texmf-dist/tex/latex/biblatex/blx-case-expl3.sty\n",
      "(/usr/share/texlive/texmf-dist/tex/latex/l3packages/xparse/xparse.sty)))\n",
      "(/usr/share/texlive/texmf-dist/tex/latex/psnfss/ot1ptm.fd) (./lossy.aux)\n",
      "(/usr/share/texlive/texmf-dist/tex/context/base/mkii/supp-pdf.mkii\n",
      "[Loading MPS to PDF converter (version 2006.09.02).]\n",
      ") (/usr/share/texlive/texmf-dist/tex/latex/epstopdf-pkg/epstopdf-base.sty\n",
      "(/usr/share/texlive/texmf-dist/tex/latex/latexconfig/epstopdf-sys.cfg))\n",
      "(/usr/share/texlive/texmf-dist/tex/latex/biblatex/lbx/english.lbx) (./lossy.bbl\n",
      ") (/usr/share/texlive/texmf-dist/tex/latex/amsfonts/umsa.fd)\n",
      "(/usr/share/texlive/texmf-dist/tex/latex/amsfonts/umsb.fd)\n",
      "Overfull \\hbox (2.50195pt too wide) in paragraph at lines 57--58\n",
      "[][] \n",
      "\n",
      "Underfull \\vbox (badness 4995) has occurred while \\output is active [1{/var/lib\n",
      "/texmf/fonts/map/pdftex/updmap/pdftex.map} <./img/doog.png>] (./lossy.aux) )\n",
      "(see the transcript file for additional information){/usr/share/texlive/texmf-d\n",
      "ist/fonts/enc/dvips/base/8r.enc}</usr/share/texlive/texmf-dist/fonts/type1/urw/\n",
      "times/utmb8a.pfb></usr/share/texlive/texmf-dist/fonts/type1/urw/times/utmr8a.pf\n",
      "b></usr/share/texlive/texmf-dist/fonts/type1/urw/times/utmri8a.pfb>\n",
      "Output written on lossy.pdf (1 page, 16751170 bytes).\n",
      "Transcript written on lossy.log.\n"
     ]
    },
    {
     "name": "stderr",
     "output_type": "stream",
     "text": [
      "/home/server/.local/lib/python3.10/site-packages/traitlets/traitlets.py:2773: FutureWarning: --TagRemovePreprocessor.remove_cell_tags={\"remove_cell\"} for containers is deprecated in traitlets 5.0. You can pass `--TagRemovePreprocessor.remove_cell_tags item` ... multiple times to add items to a list.\n",
      "  warn(\n",
      "[NbConvertApp] Converting notebook lossy.ipynb to markdown\n",
      "[NbConvertApp] Writing 16182 bytes to lossy.md\n",
      "Use of uninitialized value in quotemeta at /usr/share/perl5/Biber/Config.pm line 228.\n",
      "Use of uninitialized value $tool in concatenation (.) or string at /usr/share/perl5/Biber/Config.pm line 307.\n",
      "Use of uninitialized value $opt in hash element at /usr/share/perl5/Biber/Config.pm line 967.\n",
      "Use of uninitialized value within %Biber::Config::CONFIG_OPTSCOPE_BIBLATEX in hash dereference at /usr/share/perl5/Biber/Config.pm line 967.\n",
      "Use of uninitialized value $opt in hash element at /usr/share/perl5/Biber/Config.pm line 972.\n",
      "Use of uninitialized value within %Biber::Config::CONFIG_OPTSCOPE_BIBLATEX in hash dereference at /usr/share/perl5/Biber/Config.pm line 972.\n",
      "Use of uninitialized value $opt in hash element at /usr/share/perl5/Biber/Config.pm line 977.\n",
      "Use of uninitialized value within %Biber::Config::CONFIG_OPTSCOPE_BIBLATEX in hash dereference at /usr/share/perl5/Biber/Config.pm line 977.\n",
      "Use of uninitialized value $opt in hash element at /usr/share/perl5/Biber/Config.pm line 967.\n",
      "Use of uninitialized value within %Biber::Config::CONFIG_OPTSCOPE_BIBLATEX in hash dereference at /usr/share/perl5/Biber/Config.pm line 967.\n",
      "Use of uninitialized value $opt in hash element at /usr/share/perl5/Biber/Config.pm line 972.\n",
      "Use of uninitialized value within %Biber::Config::CONFIG_OPTSCOPE_BIBLATEX in hash dereference at /usr/share/perl5/Biber/Config.pm line 972.\n",
      "Use of uninitialized value $opt in hash element at /usr/share/perl5/Biber/Config.pm line 977.\n",
      "Use of uninitialized value within %Biber::Config::CONFIG_OPTSCOPE_BIBLATEX in hash dereference at /usr/share/perl5/Biber/Config.pm line 977.\n",
      "Use of uninitialized value $opt in hash element at /usr/share/perl5/Biber/Config.pm line 967.\n",
      "Use of uninitialized value within %Biber::Config::CONFIG_OPTSCOPE_BIBLATEX in hash dereference at /usr/share/perl5/Biber/Config.pm line 967.\n",
      "Use of uninitialized value $opt in hash element at /usr/share/perl5/Biber/Config.pm line 972.\n",
      "Use of uninitialized value within %Biber::Config::CONFIG_OPTSCOPE_BIBLATEX in hash dereference at /usr/share/perl5/Biber/Config.pm line 972.\n",
      "Use of uninitialized value $opt in hash element at /usr/share/perl5/Biber/Config.pm line 977.\n",
      "Use of uninitialized value within %Biber::Config::CONFIG_OPTSCOPE_BIBLATEX in hash dereference at /usr/share/perl5/Biber/Config.pm line 977.\n"
     ]
    }
   ],
   "source": [
    "run(`jupyter-nbconvert --to markdown lossy.ipynb --TagRemovePreprocessor.remove_cell_tags='{\"remove_cell\"}'`);\n",
    "run(`mv lossy.md lossy.tex`);\n",
    "run(`pdflatex lossy`);\n",
    "run(`biber lossy`);\n",
    "run(`pdflatex lossy`);"
   ]
  },
  {
   "cell_type": "code",
   "execution_count": null,
   "id": "fa21bfe1-b36f-4b69-8c20-c9c600c0be6a",
   "metadata": {},
   "outputs": [],
   "source": []
  }
 ],
 "metadata": {
  "kernelspec": {
   "display_name": "Julia 1.7.0-beta3",
   "language": "julia",
   "name": "julia-1.7"
  },
  "language_info": {
   "file_extension": ".jl",
   "mimetype": "application/julia",
   "name": "julia",
   "version": "1.7.0"
  }
 },
 "nbformat": 4,
 "nbformat_minor": 5
}
