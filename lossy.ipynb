{
 "cells": [
  {
   "cell_type": "raw",
   "id": "09f3aaff-f5da-4527-9701-4c892767299d",
   "metadata": {},
   "source": [
    "\\documentclass{article}\n",
    "\\usepackage{spconf}\n",
    "\\usepackage[utf8]{inputenc}\n",
    "\\usepackage{setspace}\n",
    "\\usepackage{amssymb}\n",
    "\\usepackage{subfiles}\n",
    "\\usepackage{amsmath}\n",
    "\\usepackage{graphicx}\n",
    "\\usepackage{subcaption}\n",
    "\\usepackage[\n",
    "backend=biber,\n",
    "style=alphabetic,\n",
    "giveninits=true\n",
    "]{biblatex}\n",
    "\\DeclareNameAlias{default}{family-given}\n",
    "\\addbibresource{sources.bib}\n"
   ]
  },
  {
   "cell_type": "raw",
   "id": "b0bbbe46-48ed-4342-a9fd-27e829817564",
   "metadata": {},
   "source": [
    "\\graphicspath{ {./img} }\n"
   ]
  },
  {
   "cell_type": "raw",
   "id": "07f748d2-65ab-4c4d-abec-098668f67bb1",
   "metadata": {},
   "source": [
    "\\title{Lossy Compression to Prevent Evasion and Poisoning}\n",
    "\\name{Dan Jacobellis and Matthew Qin}\n",
    "\\address{ECE 381V Term Project}\n",
    "\\date{\\today} "
   ]
  },
  {
   "cell_type": "raw",
   "id": "1f43b7c0-5c20-4642-b94c-30848b1a1c09",
   "metadata": {},
   "source": [
    "\\begin{document}\n",
    "\n",
    "\\def\\IEEEQED{\\mbox{\\rule[0pt]{1.3ex}{1.3ex}}} % for a filled box\n",
    "\\newcommand{\\ep}{\\hspace*{\\fill}~\\IEEEQED}\n",
    "\\newenvironment{mproof}[1][Proof]{{\\bf #1: }}{\\ep\\vspace{.1in}}\n",
    "\n",
    "\\maketitle"
   ]
  },
  {
   "cell_type": "raw",
   "id": "7f047958-f060-4b44-8874-9ab12d354f06",
   "metadata": {},
   "source": [
    "\\begin{abstract}\n"
   ]
  },
  {
   "cell_type": "markdown",
   "id": "f5adead8-ba13-4f3c-bea1-4e923c036c9a",
   "metadata": {},
   "source": [
    "Evasion and poisoning attacks are a major concern for machine learning models that operate on high dimensional data such as audio, images, and video.\n",
    "\n",
    "One of the most insidious aspects of these attacks is that they only require subtle perturbations in the input space to succeed.\n",
    "\n",
    "In many cases, a successful perturbation can be so small as to be undetectable to a careful human auditor.\n",
    "\n",
    "However, in this work, we show that perturbations introduced by these attacks can be sanitized by lossy compression.\n",
    "\n",
    "We show that for image classification, the accuracy gained from sanitizing the attack outweighs the accuracy lost from compression.\n",
    "\n",
    "We conduct experiments on several images using a variety of codecs and perturbation sizes.\n",
    "\n",
    "Our results suggest that lossy compression is a powerful strategy to mitigate these attacks.\n",
    "\n",
    "In addition, we show that learning directly on compressed representations can significantly reduces the memory throughput required for training, thus increasing efficiency with only a modest loss in accuracy."
   ]
  },
  {
   "cell_type": "raw",
   "id": "d70d6356-d396-4118-89f2-760bed87e38b",
   "metadata": {},
   "source": [
    "\n",
    "\\end{abstract}\n"
   ]
  },
  {
   "cell_type": "raw",
   "id": "1974ee2a-9de3-40aa-a526-70b4405184fa",
   "metadata": {},
   "source": [
    "\\section{Introduction} \\label{sec:introduction}\n"
   ]
  },
  {
   "cell_type": "markdown",
   "id": "019e37a0-d4f9-403f-b248-bf40a2e1ae03",
   "metadata": {},
   "source": [
    "Adversarial attacks are a major concern in the field of cybersecurity as they pose significant threats to the integrity and security of systems and networks. In recent years, they have become increasingly common and have become increasingly sophisticated, with attackers leveraging advanced techniques and tools to exploit vulnerabilities and cause harm. As such, they are a growing concern to individuals, organizations, and government entities alike. "
   ]
  },
  {
   "cell_type": "markdown",
   "id": "c58654e2-a19b-4d42-8ab2-ca1e2ae0cd0c",
   "metadata": {},
   "source": [
    "One classification of an adversarial attack is an evasion attack. Evasion adversarial attacks refer to a specific type of attack in which the attacker attempts to deceive a network in order to avoid detection. This can include disguising malware as legitimate software, using misleading information or keywords to bypass authentication, or making imperceptible changes to an image recognition software in order to exploit vulnerabilities in a system’s defenses. A simple and popular method technique is the fast gradient sign method (FGSM). The FGSM method is based on the concept of gradient descent where the attacker calculates the gradient loss function with respect to the input data and generates small perturbations which are then added to the input image to craft an adversarial example and cause the model to misclassify the input. This method is fast and is effective in deep learning machine models as they are highly sensitive to small changes in the input data in which human vision can not detect and safeguard against. An example of the implementation of FGSM can be found in Figure"
   ]
  },
  {
   "cell_type": "raw",
   "id": "0054b618-bb55-4789-a73f-16fe11e561c1",
   "metadata": {},
   "source": [
    "\\ref{fig:doog}."
   ]
  },
  {
   "cell_type": "raw",
   "id": "6096af1e-4867-451e-8046-da784dfa66ef",
   "metadata": {},
   "source": [
    "\\begin{figure}[h!]\n",
    "  \\includegraphics[scale=0.25]{doog}\n",
    "  \\caption{Evasion Attack using FGSM}\n",
    "\\end{figure}"
   ]
  },
  {
   "cell_type": "markdown",
   "id": "893a8246-8366-4c9d-9cbc-cefa88c42387",
   "metadata": {},
   "source": [
    "Here we can see that the magnitude of the perturbation applied to the input data is controlled by a hyper parameter epsilon. Epsilon determines the maximum amount of perturbation that can be added to the input data and thus, the maximum amount of noise and distortion. This is equivalent to limiting the number of bits FGSM is allowed to manipulate, with higher levels of epsilon resulting in more aggressive adversarial attacks which in turn allows for large perturbations to be added to the image. However, we see that by carefully tuning epsilon, the attacker can craft adversarial examples that are imperceptible but still likely to make the machine learning model make incorrect predictions."
   ]
  },
  {
   "cell_type": "raw",
   "id": "77884afe-ea31-4ae6-8cbc-2db695e06517",
   "metadata": {},
   "source": [
    "\\section{Methods} \\label{sec:methods}\n"
   ]
  },
  {
   "cell_type": "raw",
   "id": "7260bebb-fe9a-4b25-a1d0-3b3b61d7bb75",
   "metadata": {},
   "source": [
    "\\cite{geiping2020witches}"
   ]
  },
  {
   "cell_type": "raw",
   "id": "6f3c0e71-7c28-4505-ac9b-95a0c6f214ae",
   "metadata": {},
   "source": [
    "\n",
    "\\subsection{Experiment 1: Evasion} \\label{sec:evasion}\n"
   ]
  },
  {
   "cell_type": "markdown",
   "id": "565e44b6-ee18-4439-af9a-f06ad6b8cc55",
   "metadata": {},
   "source": [
    "Something something, trained on compressed images. 0 25\n",
    "50 75 100. Not fully exhaustive list Bla bla bla, used JPEG and GIF compression methods. Something abouts bits and dithering :) (Figure8)"
   ]
  },
  {
   "cell_type": "raw",
   "id": "be154c06-b80d-4161-b8e1-170cea780bb5",
   "metadata": {},
   "source": [
    "\n",
    "\\printbibliography\n",
    "\\end{document}"
   ]
  },
  {
   "cell_type": "code",
   "execution_count": 1,
   "id": "865fa049-8f79-49d9-a3ec-3e90f500ada1",
   "metadata": {},
   "outputs": [
    {
     "name": "stdout",
     "output_type": "stream",
     "text": [
      "This is pdfTeX, Version 3.141592653-2.6-1.40.22 (TeX Live 2022/dev/Debian) (preloaded format=pdflatex)\n",
      " restricted \\write18 enabled.\n",
      "entering extended mode\n",
      "(./lossy.tex\n",
      "LaTeX2e <2021-11-15> patch level 1\n",
      "L3 programming layer <2022-01-21>\n",
      "(/usr/share/texlive/texmf-dist/tex/latex/base/article.cls\n",
      "Document Class: article 2021/10/04 v1.4n Standard LaTeX document class\n",
      "(/usr/share/texlive/texmf-dist/tex/latex/base/size10.clo)) (./spconf.sty)\n",
      "(/usr/share/texlive/texmf-dist/tex/latex/base/inputenc.sty)\n",
      "(/usr/share/texlive/texmf-dist/tex/latex/setspace/setspace.sty)\n",
      "(/usr/share/texlive/texmf-dist/tex/latex/amsfonts/amssymb.sty\n",
      "(/usr/share/texlive/texmf-dist/tex/latex/amsfonts/amsfonts.sty))\n",
      "(/usr/share/texlive/texmf-dist/tex/latex/subfiles/subfiles.sty\n",
      "(/usr/share/texlive/texmf-dist/tex/latex/import/import.sty))\n",
      "(/usr/share/texlive/texmf-dist/tex/latex/amsmath/amsmath.sty\n",
      "For additional information on amsmath, use the `?' option.\n",
      "(/usr/share/texlive/texmf-dist/tex/latex/amsmath/amstext.sty\n",
      "(/usr/share/texlive/texmf-dist/tex/latex/amsmath/amsgen.sty))\n",
      "(/usr/share/texlive/texmf-dist/tex/latex/amsmath/amsbsy.sty)\n",
      "(/usr/share/texlive/texmf-dist/tex/latex/amsmath/amsopn.sty))\n",
      "(/usr/share/texlive/texmf-dist/tex/latex/graphics/graphicx.sty\n",
      "(/usr/share/texlive/texmf-dist/tex/latex/graphics/keyval.sty)\n",
      "(/usr/share/texlive/texmf-dist/tex/latex/graphics/graphics.sty\n",
      "(/usr/share/texlive/texmf-dist/tex/latex/graphics/trig.sty)\n",
      "(/usr/share/texlive/texmf-dist/tex/latex/graphics-cfg/graphics.cfg)\n",
      "(/usr/share/texlive/texmf-dist/tex/latex/graphics-def/pdftex.def)))\n",
      "(/usr/share/texlive/texmf-dist/tex/latex/caption/subcaption.sty\n",
      "(/usr/share/texlive/texmf-dist/tex/latex/caption/caption.sty\n",
      "(/usr/share/texlive/texmf-dist/tex/latex/caption/caption3.sty)\n",
      "\n",
      "Package caption Warning: Unknown document class (or package),\n",
      "(caption)                standard defaults will be used.\n",
      "See the caption package documentation for explanation.\n",
      "\n",
      ")) (/usr/share/texlive/texmf-dist/tex/latex/biblatex/biblatex.sty\n",
      "(/usr/share/texlive/texmf-dist/tex/generic/pdftexcmds/pdftexcmds.sty\n",
      "(/usr/share/texlive/texmf-dist/tex/generic/infwarerr/infwarerr.sty)\n",
      "(/usr/share/texlive/texmf-dist/tex/generic/iftex/iftex.sty)\n",
      "(/usr/share/texlive/texmf-dist/tex/generic/ltxcmds/ltxcmds.sty))\n",
      "(/usr/share/texlive/texmf-dist/tex/latex/etoolbox/etoolbox.sty)\n",
      "(/usr/share/texlive/texmf-dist/tex/latex/kvoptions/kvoptions.sty\n",
      "(/usr/share/texlive/texmf-dist/tex/generic/kvsetkeys/kvsetkeys.sty))\n",
      "(/usr/share/texlive/texmf-dist/tex/latex/logreq/logreq.sty\n",
      "(/usr/share/texlive/texmf-dist/tex/latex/logreq/logreq.def))\n",
      "(/usr/share/texlive/texmf-dist/tex/latex/base/ifthen.sty)\n",
      "(/usr/share/texlive/texmf-dist/tex/latex/url/url.sty)\n",
      "(/usr/share/texlive/texmf-dist/tex/latex/biblatex/blx-dm.def)\n",
      "(/usr/share/texlive/texmf-dist/tex/latex/biblatex/blx-compat.def)\n",
      "(/usr/share/texlive/texmf-dist/tex/latex/biblatex/biblatex.def)\n",
      "(/usr/share/texlive/texmf-dist/tex/latex/biblatex/bbx/alphabetic.bbx\n",
      "(/usr/share/texlive/texmf-dist/tex/latex/biblatex/bbx/standard.bbx))\n",
      "(/usr/share/texlive/texmf-dist/tex/latex/biblatex/cbx/alphabetic.cbx)\n",
      "(/usr/share/texlive/texmf-dist/tex/latex/biblatex/biblatex.cfg)\n",
      "(/usr/share/texlive/texmf-dist/tex/latex/l3kernel/expl3.sty\n",
      "(/usr/share/texlive/texmf-dist/tex/latex/l3backend/l3backend-pdftex.def))\n",
      "(/usr/share/texlive/texmf-dist/tex/latex/biblatex/blx-case-expl3.sty\n",
      "(/usr/share/texlive/texmf-dist/tex/latex/l3packages/xparse/xparse.sty)))\n",
      "(/usr/share/texlive/texmf-dist/tex/latex/psnfss/ot1ptm.fd) (./lossy.aux)\n",
      "(/usr/share/texlive/texmf-dist/tex/context/base/mkii/supp-pdf.mkii\n",
      "[Loading MPS to PDF converter (version 2006.09.02).]\n",
      ") (/usr/share/texlive/texmf-dist/tex/latex/epstopdf-pkg/epstopdf-base.sty\n",
      "(/usr/share/texlive/texmf-dist/tex/latex/latexconfig/epstopdf-sys.cfg))\n",
      "(/usr/share/texlive/texmf-dist/tex/latex/biblatex/lbx/english.lbx) (./lossy.bbl\n",
      ") (/usr/share/texlive/texmf-dist/tex/latex/amsfonts/umsa.fd)\n",
      "(/usr/share/texlive/texmf-dist/tex/latex/amsfonts/umsb.fd)\n",
      "Overfull \\hbox (2.50195pt too wide) in paragraph at lines 57--58\n",
      "[][] \n",
      "\n",
      "Underfull \\vbox (badness 4995) has occurred while \\output is active [1{/var/lib\n",
      "/texmf/fonts/map/pdftex/updmap/pdftex.map} <./img/doog.png>] (./lossy.aux) )\n",
      "(see the transcript file for additional information){/usr/share/texlive/texmf-d\n",
      "ist/fonts/enc/dvips/base/8r.enc}</usr/share/texlive/texmf-dist/fonts/type1/urw/\n",
      "times/utmb8a.pfb></usr/share/texlive/texmf-dist/fonts/type1/urw/times/utmr8a.pf\n",
      "b></usr/share/texlive/texmf-dist/fonts/type1/urw/times/utmri8a.pfb>\n",
      "Output written on lossy.pdf (1 page, 16751170 bytes).\n",
      "Transcript written on lossy.log.\n",
      "INFO - This is Biber 2.17\n",
      "INFO - Logfile is 'lossy.blg'\n",
      "INFO - Reading 'lossy.bcf'\n",
      "INFO - Found 1 citekeys in bib section 0\n",
      "INFO - Processing section 0\n",
      "INFO - Looking for bibtex file 'sources.bib' for section 0\n",
      "INFO - LaTeX decoding ...\n",
      "INFO - Found BibTeX data source 'sources.bib'\n",
      "INFO - Overriding locale 'en-US' defaults 'variable = shifted' with 'variable = non-ignorable'\n",
      "INFO - Overriding locale 'en-US' defaults 'normalization = NFD' with 'normalization = prenormalized'\n",
      "INFO - Sorting list 'anyt/global//global/global' of type 'entry' with template 'anyt' and locale 'en-US'\n",
      "INFO - No sort tailoring available for locale 'en-US'\n",
      "INFO - Writing 'lossy.bbl' with encoding 'UTF-8'\n",
      "INFO - Output to lossy.bbl\n",
      "This is pdfTeX, Version 3.141592653-2.6-1.40.22 (TeX Live 2022/dev/Debian) (preloaded format=pdflatex)\n",
      " restricted \\write18 enabled.\n",
      "entering extended mode\n",
      "(./lossy.tex\n",
      "LaTeX2e <2021-11-15> patch level 1\n",
      "L3 programming layer <2022-01-21>\n",
      "(/usr/share/texlive/texmf-dist/tex/latex/base/article.cls\n",
      "Document Class: article 2021/10/04 v1.4n Standard LaTeX document class\n",
      "(/usr/share/texlive/texmf-dist/tex/latex/base/size10.clo)) (./spconf.sty)\n",
      "(/usr/share/texlive/texmf-dist/tex/latex/base/inputenc.sty)\n",
      "(/usr/share/texlive/texmf-dist/tex/latex/setspace/setspace.sty)\n",
      "(/usr/share/texlive/texmf-dist/tex/latex/amsfonts/amssymb.sty\n",
      "(/usr/share/texlive/texmf-dist/tex/latex/amsfonts/amsfonts.sty))\n",
      "(/usr/share/texlive/texmf-dist/tex/latex/subfiles/subfiles.sty\n",
      "(/usr/share/texlive/texmf-dist/tex/latex/import/import.sty))\n",
      "(/usr/share/texlive/texmf-dist/tex/latex/amsmath/amsmath.sty\n",
      "For additional information on amsmath, use the `?' option.\n",
      "(/usr/share/texlive/texmf-dist/tex/latex/amsmath/amstext.sty\n",
      "(/usr/share/texlive/texmf-dist/tex/latex/amsmath/amsgen.sty))\n",
      "(/usr/share/texlive/texmf-dist/tex/latex/amsmath/amsbsy.sty)\n",
      "(/usr/share/texlive/texmf-dist/tex/latex/amsmath/amsopn.sty))\n",
      "(/usr/share/texlive/texmf-dist/tex/latex/graphics/graphicx.sty\n",
      "(/usr/share/texlive/texmf-dist/tex/latex/graphics/keyval.sty)\n",
      "(/usr/share/texlive/texmf-dist/tex/latex/graphics/graphics.sty\n",
      "(/usr/share/texlive/texmf-dist/tex/latex/graphics/trig.sty)\n",
      "(/usr/share/texlive/texmf-dist/tex/latex/graphics-cfg/graphics.cfg)\n",
      "(/usr/share/texlive/texmf-dist/tex/latex/graphics-def/pdftex.def)))\n",
      "(/usr/share/texlive/texmf-dist/tex/latex/caption/subcaption.sty\n",
      "(/usr/share/texlive/texmf-dist/tex/latex/caption/caption.sty\n",
      "(/usr/share/texlive/texmf-dist/tex/latex/caption/caption3.sty)\n",
      "\n",
      "Package caption Warning: Unknown document class (or package),\n",
      "(caption)                standard defaults will be used.\n",
      "See the caption package documentation for explanation.\n",
      "\n",
      ")) (/usr/share/texlive/texmf-dist/tex/latex/biblatex/biblatex.sty\n",
      "(/usr/share/texlive/texmf-dist/tex/generic/pdftexcmds/pdftexcmds.sty\n",
      "(/usr/share/texlive/texmf-dist/tex/generic/infwarerr/infwarerr.sty)\n",
      "(/usr/share/texlive/texmf-dist/tex/generic/iftex/iftex.sty)\n",
      "(/usr/share/texlive/texmf-dist/tex/generic/ltxcmds/ltxcmds.sty))\n",
      "(/usr/share/texlive/texmf-dist/tex/latex/etoolbox/etoolbox.sty)\n",
      "(/usr/share/texlive/texmf-dist/tex/latex/kvoptions/kvoptions.sty\n",
      "(/usr/share/texlive/texmf-dist/tex/generic/kvsetkeys/kvsetkeys.sty))\n",
      "(/usr/share/texlive/texmf-dist/tex/latex/logreq/logreq.sty\n",
      "(/usr/share/texlive/texmf-dist/tex/latex/logreq/logreq.def))\n",
      "(/usr/share/texlive/texmf-dist/tex/latex/base/ifthen.sty)\n",
      "(/usr/share/texlive/texmf-dist/tex/latex/url/url.sty)\n",
      "(/usr/share/texlive/texmf-dist/tex/latex/biblatex/blx-dm.def)\n",
      "(/usr/share/texlive/texmf-dist/tex/latex/biblatex/blx-compat.def)\n",
      "(/usr/share/texlive/texmf-dist/tex/latex/biblatex/biblatex.def)\n",
      "(/usr/share/texlive/texmf-dist/tex/latex/biblatex/bbx/alphabetic.bbx\n",
      "(/usr/share/texlive/texmf-dist/tex/latex/biblatex/bbx/standard.bbx))\n",
      "(/usr/share/texlive/texmf-dist/tex/latex/biblatex/cbx/alphabetic.cbx)\n",
      "(/usr/share/texlive/texmf-dist/tex/latex/biblatex/biblatex.cfg)\n",
      "(/usr/share/texlive/texmf-dist/tex/latex/l3kernel/expl3.sty\n",
      "(/usr/share/texlive/texmf-dist/tex/latex/l3backend/l3backend-pdftex.def))\n",
      "(/usr/share/texlive/texmf-dist/tex/latex/biblatex/blx-case-expl3.sty\n",
      "(/usr/share/texlive/texmf-dist/tex/latex/l3packages/xparse/xparse.sty)))\n",
      "(/usr/share/texlive/texmf-dist/tex/latex/psnfss/ot1ptm.fd) (./lossy.aux)\n",
      "(/usr/share/texlive/texmf-dist/tex/context/base/mkii/supp-pdf.mkii\n",
      "[Loading MPS to PDF converter (version 2006.09.02).]\n",
      ") (/usr/share/texlive/texmf-dist/tex/latex/epstopdf-pkg/epstopdf-base.sty\n",
      "(/usr/share/texlive/texmf-dist/tex/latex/latexconfig/epstopdf-sys.cfg))\n",
      "(/usr/share/texlive/texmf-dist/tex/latex/biblatex/lbx/english.lbx) (./lossy.bbl\n",
      ") (/usr/share/texlive/texmf-dist/tex/latex/amsfonts/umsa.fd)\n",
      "(/usr/share/texlive/texmf-dist/tex/latex/amsfonts/umsb.fd)\n",
      "Overfull \\hbox (2.50195pt too wide) in paragraph at lines 57--58\n",
      "[][] \n",
      "\n",
      "Underfull \\vbox (badness 4995) has occurred while \\output is active [1{/var/lib\n",
      "/texmf/fonts/map/pdftex/updmap/pdftex.map} <./img/doog.png>] (./lossy.aux) )\n",
      "(see the transcript file for additional information){/usr/share/texlive/texmf-d\n",
      "ist/fonts/enc/dvips/base/8r.enc}</usr/share/texlive/texmf-dist/fonts/type1/urw/\n",
      "times/utmb8a.pfb></usr/share/texlive/texmf-dist/fonts/type1/urw/times/utmr8a.pf\n",
      "b></usr/share/texlive/texmf-dist/fonts/type1/urw/times/utmri8a.pfb>\n",
      "Output written on lossy.pdf (1 page, 16751170 bytes).\n",
      "Transcript written on lossy.log.\n"
     ]
    },
    {
     "name": "stderr",
     "output_type": "stream",
     "text": [
      "/home/server/.local/lib/python3.10/site-packages/traitlets/traitlets.py:2773: FutureWarning: --TagRemovePreprocessor.remove_cell_tags={\"remove_cell\"} for containers is deprecated in traitlets 5.0. You can pass `--TagRemovePreprocessor.remove_cell_tags item` ... multiple times to add items to a list.\n",
      "  warn(\n",
      "[NbConvertApp] Converting notebook lossy.ipynb to markdown\n",
      "[NbConvertApp] Writing 16182 bytes to lossy.md\n",
      "Use of uninitialized value in quotemeta at /usr/share/perl5/Biber/Config.pm line 228.\n",
      "Use of uninitialized value $tool in concatenation (.) or string at /usr/share/perl5/Biber/Config.pm line 307.\n",
      "Use of uninitialized value $opt in hash element at /usr/share/perl5/Biber/Config.pm line 967.\n",
      "Use of uninitialized value within %Biber::Config::CONFIG_OPTSCOPE_BIBLATEX in hash dereference at /usr/share/perl5/Biber/Config.pm line 967.\n",
      "Use of uninitialized value $opt in hash element at /usr/share/perl5/Biber/Config.pm line 972.\n",
      "Use of uninitialized value within %Biber::Config::CONFIG_OPTSCOPE_BIBLATEX in hash dereference at /usr/share/perl5/Biber/Config.pm line 972.\n",
      "Use of uninitialized value $opt in hash element at /usr/share/perl5/Biber/Config.pm line 977.\n",
      "Use of uninitialized value within %Biber::Config::CONFIG_OPTSCOPE_BIBLATEX in hash dereference at /usr/share/perl5/Biber/Config.pm line 977.\n",
      "Use of uninitialized value $opt in hash element at /usr/share/perl5/Biber/Config.pm line 967.\n",
      "Use of uninitialized value within %Biber::Config::CONFIG_OPTSCOPE_BIBLATEX in hash dereference at /usr/share/perl5/Biber/Config.pm line 967.\n",
      "Use of uninitialized value $opt in hash element at /usr/share/perl5/Biber/Config.pm line 972.\n",
      "Use of uninitialized value within %Biber::Config::CONFIG_OPTSCOPE_BIBLATEX in hash dereference at /usr/share/perl5/Biber/Config.pm line 972.\n",
      "Use of uninitialized value $opt in hash element at /usr/share/perl5/Biber/Config.pm line 977.\n",
      "Use of uninitialized value within %Biber::Config::CONFIG_OPTSCOPE_BIBLATEX in hash dereference at /usr/share/perl5/Biber/Config.pm line 977.\n",
      "Use of uninitialized value $opt in hash element at /usr/share/perl5/Biber/Config.pm line 967.\n",
      "Use of uninitialized value within %Biber::Config::CONFIG_OPTSCOPE_BIBLATEX in hash dereference at /usr/share/perl5/Biber/Config.pm line 967.\n",
      "Use of uninitialized value $opt in hash element at /usr/share/perl5/Biber/Config.pm line 972.\n",
      "Use of uninitialized value within %Biber::Config::CONFIG_OPTSCOPE_BIBLATEX in hash dereference at /usr/share/perl5/Biber/Config.pm line 972.\n",
      "Use of uninitialized value $opt in hash element at /usr/share/perl5/Biber/Config.pm line 977.\n",
      "Use of uninitialized value within %Biber::Config::CONFIG_OPTSCOPE_BIBLATEX in hash dereference at /usr/share/perl5/Biber/Config.pm line 977.\n"
     ]
    }
   ],
   "source": [
    "run(`jupyter-nbconvert --to markdown lossy.ipynb --TagRemovePreprocessor.remove_cell_tags='{\"remove_cell\"}'`);\n",
    "run(`mv lossy.md lossy.tex`);\n",
    "run(`pdflatex lossy`);\n",
    "run(`biber lossy`);\n",
    "run(`pdflatex lossy`);"
   ]
  },
  {
   "cell_type": "code",
   "execution_count": null,
   "id": "fa21bfe1-b36f-4b69-8c20-c9c600c0be6a",
   "metadata": {},
   "outputs": [],
   "source": []
  }
 ],
 "metadata": {
  "kernelspec": {
   "display_name": "Julia 1.7.0-beta3",
   "language": "julia",
   "name": "julia-1.7"
  },
  "language_info": {
   "file_extension": ".jl",
   "mimetype": "application/julia",
   "name": "julia",
   "version": "1.7.0"
  }
 },
 "nbformat": 4,
 "nbformat_minor": 5
}
