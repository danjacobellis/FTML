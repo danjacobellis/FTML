{
 "cells": [
  {
   "cell_type": "code",
   "execution_count": 2,
   "id": "cf6cb26c-1693-4d48-9899-bd57cd0a081b",
   "metadata": {},
   "outputs": [],
   "source": [
    "from common_functions import *"
   ]
  },
  {
   "cell_type": "code",
   "execution_count": 4,
   "id": "d8236ce9-ec24-4a81-8584-955774540f6f",
   "metadata": {},
   "outputs": [],
   "source": [
    "from IPython.display import clear_output"
   ]
  },
  {
   "cell_type": "code",
   "execution_count": null,
   "id": "df4e1a8c-a54a-47a2-8233-4d22cd16675b",
   "metadata": {},
   "outputs": [
    {
     "name": "stdout",
     "output_type": "stream",
     "text": [
      "1/1 [==============================] - 0s 22ms/step\n",
      "1/1 [==============================] - 0s 27ms/step\n",
      "1/1 [==============================] - 0s 22ms/step\n",
      "1/1 [==============================] - 0s 28ms/step\n",
      "1/1 [==============================] - 0s 24ms/step\n",
      "1/1 [==============================] - 0s 23ms/step\n",
      "1/1 [==============================] - 0s 21ms/step\n",
      "1/1 [==============================] - 0s 22ms/step\n",
      "1/1 [==============================] - 0s 24ms/step\n",
      "1/1 [==============================] - 0s 25ms/step\n",
      "adding +- 1 to image\n",
      "1/1 [==============================] - 0s 29ms/step\n",
      "1/1 [==============================] - 0s 27ms/step\n"
     ]
    }
   ],
   "source": [
    "import glob\n",
    "image_filename_list = glob.glob(\"imagenet_crops/*.png\")\n",
    "model = load_model();\n",
    "perturbation_bits = [0,1,2,3,4,5,6,7,8,9]\n",
    "codecs = [lambda img : img,\n",
    "          lambda img : codec_gif(img),\n",
    "          lambda img : codec_jpeg(img,100),\n",
    "          lambda img : codec_jpeg(img,75),\n",
    "          lambda img : codec_jpeg(img,50),\n",
    "          lambda img : codec_jpeg(img,25),\n",
    "          lambda img : codec_jpeg(img,10),\n",
    "          lambda img : codec_jpeg(img,5),\n",
    "          lambda img : codec_jpeg(img,0)]\n",
    "\n",
    "images = np.zeros((len(image_filename_list),\n",
    "                     len(perturbation_bits),\n",
    "                     len(codecs),\n",
    "                     224,\n",
    "                     224,\n",
    "                     3\n",
    "                    ))\n",
    "\n",
    "accuracy = np.zeros((len(image_filename_list),\n",
    "                     len(perturbation_bits),\n",
    "                     len(codecs),\n",
    "                    ))\n",
    "quality = np.zeros((len(image_filename_list),\n",
    "                     len(perturbation_bits),\n",
    "                     len(codecs),\n",
    "                    ))\n",
    "for (i_img,image_filename) in enumerate(image_filename_list):\n",
    "    rgb = png_to_rgb(image_filename)\n",
    "    input_label, gradient = fgsm(model,rgb)\n",
    "    for (i_bit, bit) in enumerate(perturbation_bits):\n",
    "        if (bit == 0):\n",
    "            attacked_img = rgb\n",
    "        else:\n",
    "            attacked_img = sg_attack(rgb,tf.sign(gradient),bit)\n",
    "        for (i_codec,codec) in enumerate(codecs):\n",
    "            test_img = codec(attacked_img)\n",
    "            test_label, _ = fgsm(model,test_img)\n",
    "            \n",
    "            images[i_img,i_bit,i_codec,:,:,:] = test_img \n",
    "            \n",
    "            quality[i_img,i_bit,i_codec] = ssim_m(rgb,test_img)\n",
    "            if input_label[1] == test_label[1]:\n",
    "                accuracy[i_img,i_bit,i_codec] = test_label[2]\n",
    "            else:\n",
    "                accuracy[i_img,i_bit,i_codec] = -test_label[2]\n",
    "            \n",
    "    clear_output()\n",
    "np.save('images',images)\n",
    "np.save('accuracy',accuracy)\n",
    "np.save('quality',quality);"
   ]
  },
  {
   "cell_type": "code",
   "execution_count": null,
   "id": "fa99c03e-3c92-4f0c-9157-d0f8bf7d6755",
   "metadata": {},
   "outputs": [],
   "source": [
    "import matplotlib.pyplot as plt\n",
    "images = np.load('images.npy')\n",
    "accuracy = np.load('accuracy.npy')\n",
    "quality = np.load('quality.npy')"
   ]
  },
  {
   "cell_type": "code",
   "execution_count": null,
   "id": "ff86f1f0-32d8-4096-9c42-eface51c8230",
   "metadata": {},
   "outputs": [],
   "source": [
    "a = np.reshape(accuracy,-1)\n",
    "q = np.reshape(quality,-1)\n",
    "plt.scatter(q,a)"
   ]
  }
 ],
 "metadata": {
  "kernelspec": {
   "display_name": "Python 3 (ipykernel)",
   "language": "python",
   "name": "python3"
  },
  "language_info": {
   "codemirror_mode": {
    "name": "ipython",
    "version": 3
   },
   "file_extension": ".py",
   "mimetype": "text/x-python",
   "name": "python",
   "nbconvert_exporter": "python",
   "pygments_lexer": "ipython3",
   "version": "3.10.6"
  }
 },
 "nbformat": 4,
 "nbformat_minor": 5
}
