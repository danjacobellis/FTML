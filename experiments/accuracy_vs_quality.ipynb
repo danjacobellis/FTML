{
 "cells": [
  {
   "cell_type": "code",
   "execution_count": 1,
   "id": "cf6cb26c-1693-4d48-9899-bd57cd0a081b",
   "metadata": {},
   "outputs": [
    {
     "name": "stderr",
     "output_type": "stream",
     "text": [
      "2022-12-07 18:14:49.717728: I tensorflow/core/platform/cpu_feature_guard.cc:193] This TensorFlow binary is optimized with oneAPI Deep Neural Network Library (oneDNN) to use the following CPU instructions in performance-critical operations:  AVX2 FMA\n",
      "To enable them in other operations, rebuild TensorFlow with the appropriate compiler flags.\n",
      "2022-12-07 18:14:50.465527: W tensorflow/compiler/xla/stream_executor/platform/default/dso_loader.cc:64] Could not load dynamic library 'libnvinfer.so.7'; dlerror: libnvinfer.so.7: cannot open shared object file: No such file or directory\n",
      "2022-12-07 18:14:50.465579: W tensorflow/compiler/xla/stream_executor/platform/default/dso_loader.cc:64] Could not load dynamic library 'libnvinfer_plugin.so.7'; dlerror: libnvinfer_plugin.so.7: cannot open shared object file: No such file or directory\n",
      "2022-12-07 18:14:50.465586: W tensorflow/compiler/tf2tensorrt/utils/py_utils.cc:38] TF-TRT Warning: Cannot dlopen some TensorRT libraries. If you would like to use Nvidia GPU with TensorRT, please make sure the missing libraries mentioned above are installed properly.\n"
     ]
    }
   ],
   "source": [
    "from common_functions import *"
   ]
  },
  {
   "cell_type": "code",
   "execution_count": 2,
   "id": "e2dcd6af-2965-4464-9d6f-10650aa13e07",
   "metadata": {},
   "outputs": [],
   "source": [
    "def codec_gif(rgb):\n",
    "    return tf.io.decode_gif(tfio.image.encode_gif(np.expand_dims(rgb,0)))\n",
    "\n",
    "def codec_jpeg(rgb,quality):\n",
    "    return tf.io.decode_jpeg(tf.io.encode_jpeg(rgb,quality=quality))\n",
    "\n",
    "def ssim_m(img1,img2):\n",
    "    return tf.image.ssim_multiscale(img1,img2,255)"
   ]
  },
  {
   "cell_type": "code",
   "execution_count": 3,
   "id": "d8236ce9-ec24-4a81-8584-955774540f6f",
   "metadata": {},
   "outputs": [],
   "source": [
    "from IPython.display import clear_output"
   ]
  },
  {
   "cell_type": "code",
   "execution_count": 4,
   "id": "df4e1a8c-a54a-47a2-8233-4d22cd16675b",
   "metadata": {},
   "outputs": [],
   "source": [
    "import glob\n",
    "image_filename_list = glob.glob(\"imagenet_crops/*.png\")\n",
    "model = load_model();\n",
    "perturbation_bits = [0,1,2,3,4,5,6,7,8,9]\n",
    "codecs = [lambda img : img,\n",
    "          lambda img : codec_gif(img),\n",
    "          lambda img : codec_jpeg(img,100),\n",
    "          lambda img : codec_jpeg(img,75),\n",
    "          lambda img : codec_jpeg(img,50),\n",
    "          lambda img : codec_jpeg(img,25),\n",
    "          lambda img : codec_jpeg(img,10),\n",
    "          lambda img : codec_jpeg(img,5),\n",
    "          lambda img : codec_jpeg(img,0)]\n",
    "accuracy = np.zeros((len(image_filename_list),\n",
    "                     len(perturbation_bits),\n",
    "                     len(codecs),\n",
    "                    ))\n",
    "quality = np.zeros((len(image_filename_list),\n",
    "                     len(perturbation_bits),\n",
    "                     len(codecs),\n",
    "                    ))\n",
    "for (i_img,image_filename) in enumerate(image_filename_list):\n",
    "    rgb = png_to_rgb(image_filename)\n",
    "    input_label, gradient = fgsm(model,rgb)\n",
    "    for (i_bit, bit) in enumerate(perturbation_bits):\n",
    "        if (bit == 0):\n",
    "            attacked_img = rgb\n",
    "        else:\n",
    "            attacked_img = sg_attack(rgb,tf.sign(gradient),bit)\n",
    "        for (i_codec,codec) in enumerate(codecs):\n",
    "            test_img = np.squeeze(codec(attacked_img))\n",
    "            test_label, _ = fgsm(model,test_img)\n",
    "            \n",
    "            quality[i_img,i_bit,i_codec] = ssim_m(rgb,test_img)\n",
    "            if input_label[2] == test_label[2]:\n",
    "                accuracy[i_img,i_bit,i_codec] = test_label[2]\n",
    "            else:\n",
    "                accuracy[i_img,i_bit,i_codec] = -test_label[2]\n",
    "    clear_output()\n",
    "np.save('accuracy',accuracy)\n",
    "np.save('quality',quality);"
   ]
  },
  {
   "cell_type": "code",
   "execution_count": 7,
   "id": "fa99c03e-3c92-4f0c-9157-d0f8bf7d6755",
   "metadata": {},
   "outputs": [],
   "source": [
    "import matplotlib.pyplot as plt"
   ]
  },
  {
   "cell_type": "code",
   "execution_count": 13,
   "id": "c60210b2-86a2-44bb-89c2-b3fabb4068c7",
   "metadata": {},
   "outputs": [
    {
     "data": {
      "text/plain": [
       "<matplotlib.colorbar.Colorbar at 0x7f9cfd01f850>"
      ]
     },
     "execution_count": 13,
     "metadata": {},
     "output_type": "execute_result"
    },
    {
     "data": {
      "image/png": "[encoded data removed]",
      "text/plain": [
       "<Figure size 640x480 with 2 Axes>"
      ]
     },
     "metadata": {},
     "output_type": "display_data"
    }
   ],
   "source": [
    "plt.imshow(np.mean(accuracy,axis=0))\n",
    "plt.colorbar()"
   ]
  },
  {
   "cell_type": "code",
   "execution_count": 12,
   "id": "3b4c31b5-b499-4a44-b55b-e4b4fef90d76",
   "metadata": {},
   "outputs": [
    {
     "data": {
      "text/plain": [
       "<matplotlib.colorbar.Colorbar at 0x7f9d28159a50>"
      ]
     },
     "execution_count": 12,
     "metadata": {},
     "output_type": "execute_result"
    },
    {
     "data": {
      "image/png": "[encoded data removed]",
      "text/plain": [
       "<Figure size 640x480 with 2 Axes>"
      ]
     },
     "metadata": {},
     "output_type": "display_data"
    }
   ],
   "source": [
    "plt.imshow(np.mean(quality,axis=0))\n",
    "plt.colorbar()"
   ]
  }
 ],
 "metadata": {
  "kernelspec": {
   "display_name": "Python 3 (ipykernel)",
   "language": "python",
   "name": "python3"
  },
  "language_info": {
   "codemirror_mode": {
    "name": "ipython",
    "version": 3
   },
   "file_extension": ".py",
   "mimetype": "text/x-python",
   "name": "python",
   "nbconvert_exporter": "python",
   "pygments_lexer": "ipython3",
   "version": "3.10.6"
  }
 },
 "nbformat": 4,
 "nbformat_minor": 5
}
