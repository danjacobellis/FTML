{
 "cells": [
  {
   "cell_type": "markdown",
   "id": "267e4f8c-85dd-4f36-9ee4-0462952afe5d",
   "metadata": {
    "tags": [
     "remove-nb-cell"
    ]
   },
   "source": [
    "# A survey on datasets for fairness-aware machine learning\n",
    "\n",
    "[Paper](https://wires.onlinelibrary.wiley.com/doi/10.1002/widm.1452)\n",
    "\n",
    "[Slides](https://danjacobellis.github.io/FTML/survey_of_datasets.slides.html)\n"
   ]
  },
  {
   "cell_type": "markdown",
   "id": "c0e072a5-d669-4465-9a53-03cf7f807acd",
   "metadata": {
    "slideshow": {
     "slide_type": "slide"
    },
    "tags": [
     "remove-cell"
    ]
   },
   "source": [
    "<script>\n",
    "    document.querySelector('head').innerHTML += '<style>.slides { zoom: 1.75 !important; }</style>';\n",
    "</script>\n",
    "\n",
    "<center> <h1>\n",
    "A survey on datasets for fairness-aware machine learning\n",
    "</h1> </center>"
   ]
  },
  {
   "cell_type": "markdown",
   "id": "29c73fa1-5010-4bdf-8e0a-8ef27a39ed99",
   "metadata": {
    "slideshow": {
     "slide_type": "slide"
    },
    "tags": []
   },
   "source": [
    "## Three ways to intervene in the name of fairness\n",
    "\n",
    "* Interventions in the original data\n",
    "  * Class modification\n",
    "  * Sampling\n",
    "* Change the learning algorithm\n",
    "  * Regularization\n",
    "  * Incorporate fairness into objective function\n",
    "* Post processing of the model outputs\n",
    "  * Move decision boundary\n",
    "  * Cascade fair classifier with black box model"
   ]
  },
  {
   "cell_type": "markdown",
   "id": "c541eb9b-37da-403d-bec7-a0b84eece238",
   "metadata": {
    "slideshow": {
     "slide_type": "slide"
    },
    "tags": []
   },
   "source": [
    "## Caveats\n",
    "\n",
    "* We will only explore tabular data\n",
    "* We will use a **Bayesian network (BN)** to explore the relationships between features\n",
    "* All numerical features will be discretized to make them categorical\n",
    "  * Most BN algorithms cannot efficiently handle numeric features\n",
    "* We will examine relationships between specific, categorical features. Examples:\n",
    "    * $A_1 = \\text{sex} \\in \\{M,F\\}$\n",
    "    * $A_2 = \\text{race} \\in \\{\\text{white},\\text{nonwhite}\\}$\n",
    "    * $A_3 = \\text{race} \\in \\{\\text{white}, \\text{black}, \\text{asian-pac-islander}, \\text{amer-indian}, \\text{other}\\}$\n",
    "    * $A_4 = \\text{age} \\in \\{ 17, 18, \\dots, 90 \\}$\n",
    "    * $A_5 = \\text{age} \\in \\{ 0, \\dots, 255 \\}$\n",
    "    * $A_6 = \\text{age} \\in \\{ 25-60, <25, >60 \\}$"
   ]
  },
  {
   "cell_type": "markdown",
   "id": "48bfd738-aecb-4213-a38d-f5b9f295dfd7",
   "metadata": {
    "slideshow": {
     "slide_type": "slide"
    },
    "tags": []
   },
   "source": [
    "## Ricci v. DeStefano\n",
    "\n",
    "* Firefighter promotions determined by result of exam\n",
    "  * Mostly whites passed exam\n",
    "  * Few black firefighters passed exam\n",
    "  * Supreme court ruled that *ignoring the exam* violates 1964 civil rights act\n",
    "  \n",
    "&nbsp;\n",
    "\n",
    "| Attribute | Values               | Description                      |\n",
    "|-----------|----------------------|----------------------------------|\n",
    "| Position  | {Lieutenant,Captain} | Desired promotion                |\n",
    "| Race      | {White, Non-White}   | Self identified race             |\n",
    "| Written   | [46-95]              | Written exam score               |\n",
    "| Oral      | [40.83-92.8]         | Oral exam score                  |\n",
    "| Combined  | [45.93-92.8]         | 0.6 \\*written + 0.4\\*oral        |\n",
    "| Promoted  | {True,False}         | Whether a promotion was obtained |"
   ]
  },
  {
   "cell_type": "markdown",
   "id": "bc2621f8-7df9-44de-9aaa-dac1eb533724",
   "metadata": {
    "slideshow": {
     "slide_type": "slide"
    },
    "tags": []
   },
   "source": [
    "## Data balance\n",
    "\n",
    "<p style=\"text-align:center;\">\n",
    "<img src=\"_images/data_balance.png\" width=600 height=600 class=\"center\">\n",
    "</p>"
   ]
  },
  {
   "cell_type": "markdown",
   "id": "f3c14dc3-d241-4246-b824-ebd82b050fc7",
   "metadata": {},
   "source": [
    "![](img/data_balance.png)"
   ]
  },
  {
   "cell_type": "markdown",
   "id": "1b10c1b7-f0f8-4cbd-8711-0ad111c632ce",
   "metadata": {
    "slideshow": {
     "slide_type": "slide"
    },
    "tags": []
   },
   "source": [
    "## Statistical parity score\n",
    "\n",
    "$$\\begin{align} \\text{SP} &= P(\\hat{y}=+|S=\\bar s) \\\\ &- P(\\hat{y}=+|S= s)\\end{align}$$\n",
    "\n",
    "* $s$ is the protected group and $\\bar s$ is the unprotected group\n",
    "* $\\text{SP}=0$ occurs when there is no discrimination\n",
    "* $\\text{SP}\\in (0,1]$ occurs when the protected group is discriminated against\n",
    "* $\\text{SP}\\in [-1,0)$ occurs when the unprotected group is discriminated against\n",
    "\n",
    "Use logistic regression model to get a baseline fairness scores for each dataset."
   ]
  },
  {
   "cell_type": "markdown",
   "id": "1b4087ee-127b-43ec-a8fc-e73433cafb5f",
   "metadata": {
    "tags": [
     "remove-nb-cell"
    ]
   },
   "source": [
    "![](img/ricci_logistic.png)"
   ]
  },
  {
   "cell_type": "markdown",
   "id": "415aed13-e3a7-416e-b179-bf26e1690645",
   "metadata": {
    "slideshow": {
     "slide_type": "slide"
    },
    "tags": [
     "remove-cell"
    ]
   },
   "source": [
    "<p style=\"text-align:center;\">\n",
    "<img src=\"_images/ricci_logistic.png\" width=650 height=650 class=\"center\">\n",
    "</p>"
   ]
  },
  {
   "cell_type": "markdown",
   "id": "0e8ffd95-f499-4164-a7c7-4723d7b4e468",
   "metadata": {
    "slideshow": {
     "slide_type": "slide"
    },
    "tags": []
   },
   "source": [
    "## Bayesian network structure learning\n",
    "\n",
    "* The structure of the network $\\scr{M}$ should maximize the likelihood of generating the dataset $\\cal{D}$\n",
    "* Regularize the parameters of the network $\\widehat{\\scr{M}}$ (i.e. the edges of the graph)\n",
    "* Ensure that the protected attribute $y$ is a leaf node\n",
    "\n",
    "$$\\max_{\\scr{M^*}}{\\left\\{ P(\\cal D | \\scr M - \\gamma \\widehat {\\scr M} \\right\\}}$$\n",
    "$$ \\text{subject to } y\\in \\scr L$$\n",
    "\n",
    "* Optimization completed using the [pomegranate](https://pomegranate.readthedocs.io/en/latest/BayesianNetwork.html) software\n",
    "  * Exact and approximate algorithms are available\n",
    "  * All of the datasets used are small enough to use exact algorithms"
   ]
  },
  {
   "cell_type": "markdown",
   "id": "65df88ae-a217-4927-9e2e-15407007d9a5",
   "metadata": {
    "tags": [
     "remove-nb-cell"
    ]
   },
   "source": [
    "![](img/ricci_BN2.png)"
   ]
  },
  {
   "cell_type": "markdown",
   "id": "9b7fbe91-2a00-494c-802c-d5e284d4591f",
   "metadata": {
    "slideshow": {
     "slide_type": "slide"
    },
    "tags": [
     "remove-cell"
    ]
   },
   "source": [
    "<p style=\"text-align:center;\">\n",
    "<img src=\"_images/ricci_BN2.png\" width=650 height=650 class=\"center\">\n",
    "</p>"
   ]
  },
  {
   "cell_type": "markdown",
   "id": "b73f4721-aee8-4937-b6d4-dde2559108e6",
   "metadata": {
    "slideshow": {
     "slide_type": "slide"
    },
    "tags": []
   },
   "source": [
    "## Finance (KDD)\n",
    "\n",
    "-balance -bayes"
   ]
  },
  {
   "cell_type": "markdown",
   "id": "d56507f1-2ea4-4dec-924e-88abcdb6cf71",
   "metadata": {
    "slideshow": {
     "slide_type": "slide"
    },
    "tags": []
   },
   "source": [
    "## Criminology (Compas)"
   ]
  },
  {
   "cell_type": "markdown",
   "id": "a5bb3937-45bf-44f3-8670-0c8f14ddadfa",
   "metadata": {},
   "source": [
    "## Balanced Accuracy"
   ]
  },
  {
   "cell_type": "markdown",
   "id": "4621909d-0960-4603-a7b1-46e04479e5d9",
   "metadata": {},
   "source": [
    "## Equalized odds"
   ]
  },
  {
   "cell_type": "markdown",
   "id": "a86f8c35-5bb0-4c11-94db-11cec8a6f1e8",
   "metadata": {},
   "source": [
    "## ABROCA"
   ]
  },
  {
   "cell_type": "markdown",
   "id": "473f2ffe-a4cb-4a38-a00b-b80f5958de0e",
   "metadata": {
    "slideshow": {
     "slide_type": "slide"
    },
    "tags": []
   },
   "source": [
    "## Healthcare (Diabetes)"
   ]
  },
  {
   "cell_type": "markdown",
   "id": "417f4466-7715-40e7-b27a-0e8437880307",
   "metadata": {
    "slideshow": {
     "slide_type": "slide"
    },
    "tags": []
   },
   "source": [
    "## Education (Math)"
   ]
  },
  {
   "cell_type": "markdown",
   "id": "5107329d-03f1-4eaa-b61c-70217dffacc8",
   "metadata": {
    "slideshow": {
     "slide_type": "slide"
    },
    "tags": []
   },
   "source": [
    "## Summary: accuracy, balance, fairness\n",
    "\n",
    "| Dataset           | Protected Attribute | Group Distribution (%) | Accuracy | Balanced Accuracy | Statistical Parity | Equalized Odds | ABROCA |\n",
    "|-------------------|---------------------|-----------------------------------------|----------|-------------------|--------------------|----------------|--------|\n",
    "| Ricci             | Race                | [12.7, 29.7, 34.7, 22.9]                | N/A      | N/A               | 0.1714             | N/A            | N/A    |\n",
    "| COMPAS Recid.     | Race                | [31.5, 28.7, 15.5, 24.3]                | 0.6414   | 0.6299            | -0.3398            | 0.6452         | 0.0675 |\n",
    "| KDD Census-Income | Sex                 | [1.3, 50.7, 4.8, 43.2]                  | 0.9474   | 0.6031            | 0.0198             | 0.0403         | 0.0074 |\n",
    "| Diabetes          | Gender              | [11.1, 34.1, 13.1, 41.7]                | 0.7584   | 0.5               | N/A                | N/A            | 0.0189 |"
   ]
  },
  {
   "cell_type": "markdown",
   "id": "34fdec9b-2c29-422d-b128-41fa23979213",
   "metadata": {
    "slideshow": {
     "slide_type": "slide"
    },
    "tags": []
   },
   "source": [
    "## How can a model discrimintate against both classes simultaneously?\n",
    "\n",
    "| Dataset           | Protected Attribute | Group Distribution | Accuracy | Balanced Accuracy | Statistical Parity | Equalized Odds | ABROCA |\n",
    "|-------------------|---------------------|-----------------------------------------|----------|-------------------|--------------------|----------------|--------|\n",
    "| COMPAS Recid.     | Race                | [31.5, 28.7, 15.5, 24.3]                | 0.6414   | 0.6299            | **-0.3398**        | 0.6452         | 0.0675 |\n",
    "A: Data are heavily imbalanced towards the protected class\n",
    "<p style=\"text-align:center;\">\n",
    "<img src=\"_images/ABROCA_COMPAS.png\" width=600 height=600 class=\"center\">\n",
    "</p>\n"
   ]
  },
  {
   "cell_type": "markdown",
   "id": "2d4c9ab5-7647-45cb-b995-3d88cc37a4d4",
   "metadata": {
    "tags": [
     "remove-nb-cell"
    ]
   },
   "source": [
    "![](img/ABROCA_COMPAS.png)"
   ]
  }
 ],
 "metadata": {
  "kernelspec": {
   "display_name": "Python 3 (ipykernel)",
   "language": "python",
   "name": "python3"
  },
  "language_info": {
   "codemirror_mode": {
    "name": "ipython",
    "version": 3
   },
   "file_extension": ".py",
   "mimetype": "text/x-python",
   "name": "python",
   "nbconvert_exporter": "python",
   "pygments_lexer": "ipython3",
   "version": "3.10.1"
  }
 },
 "nbformat": 4,
 "nbformat_minor": 5
}
