{
 "cells": [
  {
   "cell_type": "markdown",
   "id": "267e4f8c-85dd-4f36-9ee4-0462952afe5d",
   "metadata": {
    "tags": [
     "remove-nb-cell"
    ]
   },
   "source": [
    "# A survey on datasets for fairness-aware machine learning\n",
    "\n",
    "[Paper](https://wires.onlinelibrary.wiley.com/doi/10.1002/widm.1452)\n",
    "\n",
    "[Slides](https://danjacobellis.github.io/FTML/survey_of_datasets.slides.html)\n"
   ]
  },
  {
   "cell_type": "markdown",
   "id": "c0e072a5-d669-4465-9a53-03cf7f807acd",
   "metadata": {
    "slideshow": {
     "slide_type": "slide"
    },
    "tags": [
     "remove-cell"
    ]
   },
   "source": [
    "<script>\n",
    "    document.querySelector('head').innerHTML += '<style>.slides { zoom: 1.75 !important; }</style>';\n",
    "</script>\n",
    "\n",
    "<center> <h1>\n",
    "A survey on datasets for fairness-aware machine learning\n",
    "</h1> </center>"
   ]
  },
  {
   "cell_type": "markdown",
   "id": "29c73fa1-5010-4bdf-8e0a-8ef27a39ed99",
   "metadata": {
    "slideshow": {
     "slide_type": "slide"
    },
    "tags": []
   },
   "source": [
    "## Three ways to intervene in the name of fairness\n",
    "\n",
    "1. Use a different learning algorithm\n",
    "2. Post processing of the model outputs\n",
    "3. Interventions in the original data\n",
    "\n",
    "* There are many ways that a dataset can lead to an unfair model during ERM\n",
    "* We need a collection datasets to evaluate potential fairness interventions"
   ]
  },
  {
   "cell_type": "markdown",
   "id": "c541eb9b-37da-403d-bec7-a0b84eece238",
   "metadata": {
    "slideshow": {
     "slide_type": "slide"
    },
    "tags": []
   },
   "source": [
    "## Background and caveats\n",
    "\n",
    "* We will only explore tabular data\n",
    "* We will use a **Bayesian network (BN)** to explore the relationships between features\n",
    "* All numerical features will be discretized to make them categorical\n",
    "  * Most BN algorithms cannot efficiently handle numeric features\n",
    "* We will examine relationships between specific, categorical features. Examples:\n",
    "    * $A_1 = \\text{sex} \\in \\{M,F\\}$\n",
    "    * $A_2 = \\text{race} \\in \\{\\text{white},\\text{nonwhite}\\}$\n",
    "    * $A_3 = \\text{race} \\in \\{\\text{white}, \\text{black}, \\text{asian-pac-islander}, \\text{amer-indian-eskimo}, \\text{other}\\}$\n",
    "    * $A_4 = \\text{age} \\in \\{ 17, 18, \\dots, 90 \\}$\n",
    "    * $A_5 = \\text{age} \\in \\{ 0, \\dots, 255 \\}$\n",
    "    * $A_6 = \\text{age} \\in \\{ 25-60, <25, >60 \\}$"
   ]
  },
  {
   "cell_type": "markdown",
   "id": "48bfd738-aecb-4213-a38d-f5b9f295dfd7",
   "metadata": {},
   "source": [
    "## Bayesian Network\n",
    "\n",
    "[put a simple example]"
   ]
  },
  {
   "cell_type": "markdown",
   "id": "cae9dff2-8939-4602-907b-c95c773c7449",
   "metadata": {},
   "source": [
    "## Show some of the networks (Ricci)"
   ]
  },
  {
   "cell_type": "markdown",
   "id": "82e825fe-d0f1-498a-8628-8e87dbb62990",
   "metadata": {},
   "source": [
    "## Employment "
   ]
  },
  {
   "cell_type": "markdown",
   "id": "b73f4721-aee8-4937-b6d4-dde2559108e6",
   "metadata": {},
   "source": [
    "## Finance"
   ]
  },
  {
   "cell_type": "markdown",
   "id": "d56507f1-2ea4-4dec-924e-88abcdb6cf71",
   "metadata": {},
   "source": [
    "## Criminology"
   ]
  },
  {
   "cell_type": "markdown",
   "id": "473f2ffe-a4cb-4a38-a00b-b80f5958de0e",
   "metadata": {},
   "source": [
    "## Healthcare"
   ]
  },
  {
   "cell_type": "markdown",
   "id": "417f4466-7715-40e7-b27a-0e8437880307",
   "metadata": {},
   "source": [
    "## Education"
   ]
  },
  {
   "cell_type": "markdown",
   "id": "1b10c1b7-f0f8-4cbd-8711-0ad111c632ce",
   "metadata": {},
   "source": [
    "## Review of fairness metrics"
   ]
  },
  {
   "cell_type": "markdown",
   "id": "7cd3a0b9-5e44-4605-9acc-c50909255c80",
   "metadata": {},
   "source": [
    "## Review data balance"
   ]
  },
  {
   "cell_type": "markdown",
   "id": "3ad44455-e49b-4185-b948-69db14fb9750",
   "metadata": {},
   "source": [
    "## Methodology\n",
    "\n",
    "* Make all protected classes binary\n",
    "* Perform logistic regression"
   ]
  },
  {
   "cell_type": "markdown",
   "id": "5107329d-03f1-4eaa-b61c-70217dffacc8",
   "metadata": {},
   "source": [
    "## Results showing accuracy and fairness measures"
   ]
  },
  {
   "cell_type": "markdown",
   "id": "34fdec9b-2c29-422d-b128-41fa23979213",
   "metadata": {},
   "source": [
    "## How can a model discrimintate against both classes simultaneously?"
   ]
  }
 ],
 "metadata": {
  "kernelspec": {
   "display_name": "Python 3 (ipykernel)",
   "language": "python",
   "name": "python3"
  },
  "language_info": {
   "codemirror_mode": {
    "name": "ipython",
    "version": 3
   },
   "file_extension": ".py",
   "mimetype": "text/x-python",
   "name": "python",
   "nbconvert_exporter": "python",
   "pygments_lexer": "ipython3",
   "version": "3.10.6"
  }
 },
 "nbformat": 4,
 "nbformat_minor": 5
}
