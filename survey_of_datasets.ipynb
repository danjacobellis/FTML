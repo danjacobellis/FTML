{
 "cells": [
  {
   "cell_type": "markdown",
   "id": "267e4f8c-85dd-4f36-9ee4-0462952afe5d",
   "metadata": {
    "tags": [
     "remove-nb-cell"
    ]
   },
   "source": [
    "# A survey on datasets for fairness-aware machine learning\n",
    "\n",
    "[Paper](https://wires.onlinelibrary.wiley.com/doi/10.1002/widm.1452)\n",
    "\n",
    "[Slides](https://danjacobellis.github.io/FTML/survey_of_datasets.slides.html)\n"
   ]
  },
  {
   "cell_type": "markdown",
   "id": "c0e072a5-d669-4465-9a53-03cf7f807acd",
   "metadata": {
    "slideshow": {
     "slide_type": "slide"
    },
    "tags": [
     "remove-cell"
    ]
   },
   "source": [
    "<script>\n",
    "    document.querySelector('head').innerHTML += '<style>.slides { zoom: 1.75 !important; }</style>';\n",
    "</script>\n",
    "\n",
    "<center> <h1>\n",
    "A survey on datasets for fairness-aware machine learning\n",
    "</h1> </center>"
   ]
  },
  {
   "cell_type": "markdown",
   "id": "29c73fa1-5010-4bdf-8e0a-8ef27a39ed99",
   "metadata": {
    "slideshow": {
     "slide_type": "slide"
    },
    "tags": []
   },
   "source": [
    "## Three ways to intervene in the name of fairness\n",
    "\n",
    "1. Use a different learning algorithm\n",
    "2. Post processing of the model outputs\n",
    "3. Interventions in the original data\n",
    "\n",
    "* There are many ways that a dataset can lead to an unfair model during ERM\n",
    "* We need a collection datasets to evaluate potential fairness interventions"
   ]
  },
  {
   "cell_type": "markdown",
   "id": "c541eb9b-37da-403d-bec7-a0b84eece238",
   "metadata": {
    "slideshow": {
     "slide_type": "slide"
    },
    "tags": []
   },
   "source": [
    "## Background and caveats\n",
    "\n",
    "* We will only explore tabular data\n",
    "* We will use a **Bayesian network (BN)** to explore the relationships between features\n",
    "* All numerical features will be discretized to make them categorical\n",
    "  * Most BN algorithms cannot efficiently handle numeric features\n",
    "* We will examine relationships between specific, categorical features. Examples:\n",
    "    * $A_1 = \\text{sex} \\in \\{M,F\\}$\n",
    "    * $A_2 = \\text{race} \\in \\{\\text{white},\\text{nonwhite}\\}$\n",
    "    * $A_3 = \\text{race} \\in \\{\\text{white}, \\text{black}, \\text{asian-pac-islander}, \\text{amer-indian-eskimo}, \\text{other}\\}$\n",
    "    * $A_4 = \\text{age} \\in \\{ 17, 18, \\dots, 90 \\}$\n",
    "    * $A_5 = \\text{age} \\in \\{ 0, \\dots, 255 \\}$\n",
    "    * $A_6 = \\text{age} \\in \\{ 25-60, <25, >60 \\}$"
   ]
  }
 ],
 "metadata": {
  "kernelspec": {
   "display_name": "Python 3 (ipykernel)",
   "language": "python",
   "name": "python3"
  },
  "language_info": {
   "codemirror_mode": {
    "name": "ipython",
    "version": 3
   },
   "file_extension": ".py",
   "mimetype": "text/x-python",
   "name": "python",
   "nbconvert_exporter": "python",
   "pygments_lexer": "ipython3",
   "version": "3.10.2"
  }
 },
 "nbformat": 4,
 "nbformat_minor": 5
}
